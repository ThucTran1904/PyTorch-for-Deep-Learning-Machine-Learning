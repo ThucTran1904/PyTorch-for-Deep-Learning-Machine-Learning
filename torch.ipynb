{
 "cells": [
  {
   "cell_type": "code",
   "execution_count": 310,
   "metadata": {},
   "outputs": [
    {
     "name": "stdout",
     "output_type": "stream",
     "text": [
      "2.3.1\n"
     ]
    }
   ],
   "source": [
    "import torch\n",
    "import pandas as pd\n",
    "import numpy as np\n",
    "import matplotlib.pyplot as plt\n",
    "\n",
    "print(torch.__version__)"
   ]
  },
  {
   "cell_type": "code",
   "execution_count": 311,
   "metadata": {},
   "outputs": [
    {
     "name": "stdout",
     "output_type": "stream",
     "text": [
      "Wed Dec 25 08:11:34 2024       \n",
      "+-----------------------------------------------------------------------------------------+\n",
      "| NVIDIA-SMI 566.07                 Driver Version: 566.07         CUDA Version: 12.7     |\n",
      "|-----------------------------------------+------------------------+----------------------+\n",
      "| GPU  Name                  Driver-Model | Bus-Id          Disp.A | Volatile Uncorr. ECC |\n",
      "| Fan  Temp   Perf          Pwr:Usage/Cap |           Memory-Usage | GPU-Util  Compute M. |\n",
      "|                                         |                        |               MIG M. |\n",
      "|=========================================+========================+======================|\n",
      "|   0  NVIDIA GeForce RTX 4060 ...  WDDM  |   00000000:01:00.0 Off |                  N/A |\n",
      "| N/A   36C    P8              1W /  140W |       0MiB /   8188MiB |      0%      Default |\n",
      "|                                         |                        |                  N/A |\n",
      "+-----------------------------------------+------------------------+----------------------+\n",
      "                                                                                         \n",
      "+-----------------------------------------------------------------------------------------+\n",
      "| Processes:                                                                              |\n",
      "|  GPU   GI   CI        PID   Type   Process name                              GPU Memory |\n",
      "|        ID   ID                                                               Usage      |\n",
      "|=========================================================================================|\n",
      "|    0   N/A  N/A     18248      C   ...\\ASUS\\anaconda3\\envs\\gp1\\python.exe      N/A      |\n",
      "+-----------------------------------------------------------------------------------------+\n"
     ]
    }
   ],
   "source": [
    "!nvidia-smi"
   ]
  },
  {
   "cell_type": "markdown",
   "metadata": {},
   "source": [
    "## Introduction to Tensors\n",
    "\n",
    "### Creating tensors"
   ]
  },
  {
   "cell_type": "code",
   "execution_count": 312,
   "metadata": {},
   "outputs": [
    {
     "data": {
      "text/plain": [
       "tensor(7)"
      ]
     },
     "execution_count": 312,
     "metadata": {},
     "output_type": "execute_result"
    }
   ],
   "source": [
    "# scalar\n",
    "scalar = torch.tensor(7)\n",
    "scalar"
   ]
  },
  {
   "cell_type": "code",
   "execution_count": 313,
   "metadata": {},
   "outputs": [
    {
     "data": {
      "text/plain": [
       "0"
      ]
     },
     "execution_count": 313,
     "metadata": {},
     "output_type": "execute_result"
    }
   ],
   "source": [
    "scalar.ndim"
   ]
  },
  {
   "cell_type": "code",
   "execution_count": 314,
   "metadata": {},
   "outputs": [
    {
     "data": {
      "text/plain": [
       "7"
      ]
     },
     "execution_count": 314,
     "metadata": {},
     "output_type": "execute_result"
    }
   ],
   "source": [
    "# Get tensor back as Python int\n",
    "scalar.item()"
   ]
  },
  {
   "cell_type": "code",
   "execution_count": 315,
   "metadata": {},
   "outputs": [
    {
     "data": {
      "text/plain": [
       "tensor([7, 7])"
      ]
     },
     "execution_count": 315,
     "metadata": {},
     "output_type": "execute_result"
    }
   ],
   "source": [
    "# Vector\n",
    "vector = torch.tensor([7,7])\n",
    "vector"
   ]
  },
  {
   "cell_type": "code",
   "execution_count": 316,
   "metadata": {},
   "outputs": [
    {
     "data": {
      "text/plain": [
       "1"
      ]
     },
     "execution_count": 316,
     "metadata": {},
     "output_type": "execute_result"
    }
   ],
   "source": [
    "vector.ndim"
   ]
  },
  {
   "cell_type": "code",
   "execution_count": 317,
   "metadata": {},
   "outputs": [
    {
     "data": {
      "text/plain": [
       "torch.Size([2])"
      ]
     },
     "execution_count": 317,
     "metadata": {},
     "output_type": "execute_result"
    }
   ],
   "source": [
    "vector.shape"
   ]
  },
  {
   "cell_type": "code",
   "execution_count": 318,
   "metadata": {},
   "outputs": [
    {
     "data": {
      "text/plain": [
       "tensor([[ 7,  8],\n",
       "        [ 9, 10]])"
      ]
     },
     "execution_count": 318,
     "metadata": {},
     "output_type": "execute_result"
    }
   ],
   "source": [
    "# Matrix\n",
    "Matrix = torch.tensor([ [7,8]\n",
    "                    , [9,10]] )\n",
    "Matrix"
   ]
  },
  {
   "cell_type": "code",
   "execution_count": 319,
   "metadata": {},
   "outputs": [
    {
     "data": {
      "text/plain": [
       "2"
      ]
     },
     "execution_count": 319,
     "metadata": {},
     "output_type": "execute_result"
    }
   ],
   "source": [
    "Matrix.ndim"
   ]
  },
  {
   "cell_type": "code",
   "execution_count": 320,
   "metadata": {},
   "outputs": [
    {
     "data": {
      "text/plain": [
       "tensor([ 9, 10])"
      ]
     },
     "execution_count": 320,
     "metadata": {},
     "output_type": "execute_result"
    }
   ],
   "source": [
    "Matrix[1]"
   ]
  },
  {
   "cell_type": "code",
   "execution_count": 321,
   "metadata": {},
   "outputs": [
    {
     "data": {
      "text/plain": [
       "torch.Size([2, 2])"
      ]
     },
     "execution_count": 321,
     "metadata": {},
     "output_type": "execute_result"
    }
   ],
   "source": [
    "Matrix.shape"
   ]
  },
  {
   "cell_type": "code",
   "execution_count": 322,
   "metadata": {},
   "outputs": [
    {
     "data": {
      "text/plain": [
       "tensor([[[1, 2, 3],\n",
       "         [3, 6, 3],\n",
       "         [2, 5, 4],\n",
       "         [7, 8, 9]]])"
      ]
     },
     "execution_count": 322,
     "metadata": {},
     "output_type": "execute_result"
    }
   ],
   "source": [
    "# Tensor\n",
    "tensor = torch.tensor([ [ [1,2,3],\n",
    "                        [3,6,3],\n",
    "                        [2,5,4],\n",
    "                        [7,8,9]] \n",
    "                       \n",
    "                       \n",
    "                       \n",
    "                       ])\n",
    "tensor"
   ]
  },
  {
   "cell_type": "code",
   "execution_count": 323,
   "metadata": {},
   "outputs": [
    {
     "data": {
      "text/plain": [
       "3"
      ]
     },
     "execution_count": 323,
     "metadata": {},
     "output_type": "execute_result"
    }
   ],
   "source": [
    "tensor.ndim"
   ]
  },
  {
   "cell_type": "code",
   "execution_count": 324,
   "metadata": {},
   "outputs": [
    {
     "data": {
      "text/plain": [
       "torch.Size([1, 4, 3])"
      ]
     },
     "execution_count": 324,
     "metadata": {},
     "output_type": "execute_result"
    }
   ],
   "source": [
    "tensor.shape"
   ]
  },
  {
   "cell_type": "markdown",
   "metadata": {},
   "source": [
    "### Random Tensors\n",
    "\n",
    "Random tensors are important bc the way many neural networks learn is that they start with tensors full of random numbers n then adjust those random numbers to better represent the data\n",
    "\n",
    "`Random numbers -> look at data -> update random numbers -> look at data -> update random numbers`"
   ]
  },
  {
   "cell_type": "code",
   "execution_count": 325,
   "metadata": {},
   "outputs": [
    {
     "data": {
      "text/plain": [
       "tensor([[0.8823, 0.9150, 0.3829, 0.9593],\n",
       "        [0.3904, 0.6009, 0.2566, 0.7936],\n",
       "        [0.9408, 0.1332, 0.9346, 0.5936]])"
      ]
     },
     "execution_count": 325,
     "metadata": {},
     "output_type": "execute_result"
    }
   ],
   "source": [
    "# Create a random tensor of size (3,4)\n",
    "random_tensor = torch.rand(3,4)\n",
    "random_tensor"
   ]
  },
  {
   "cell_type": "code",
   "execution_count": 326,
   "metadata": {},
   "outputs": [
    {
     "data": {
      "text/plain": [
       "2"
      ]
     },
     "execution_count": 326,
     "metadata": {},
     "output_type": "execute_result"
    }
   ],
   "source": [
    "random_tensor.ndim"
   ]
  },
  {
   "cell_type": "code",
   "execution_count": 327,
   "metadata": {},
   "outputs": [
    {
     "data": {
      "text/plain": [
       "(torch.Size([224, 224, 3]), 3)"
      ]
     },
     "execution_count": 327,
     "metadata": {},
     "output_type": "execute_result"
    }
   ],
   "source": [
    "# Create a random tensor with similar shape to an image tensor\n",
    "random_image_size_tensor = torch.rand(size=(224,224,3) ) # Height, width, color channels (RGB)\n",
    "random_image_size_tensor.shape, random_image_size_tensor.ndim"
   ]
  },
  {
   "cell_type": "markdown",
   "metadata": {},
   "source": [
    "### Zeros and Ones"
   ]
  },
  {
   "cell_type": "code",
   "execution_count": 328,
   "metadata": {},
   "outputs": [
    {
     "data": {
      "text/plain": [
       "tensor([[0., 0., 0., 0.],\n",
       "        [0., 0., 0., 0.],\n",
       "        [0., 0., 0., 0.]])"
      ]
     },
     "execution_count": 328,
     "metadata": {},
     "output_type": "execute_result"
    }
   ],
   "source": [
    "# Create a tensor of all zeros\n",
    "ze = torch.zeros( size=(3,4) )\n",
    "ze "
   ]
  },
  {
   "cell_type": "code",
   "execution_count": 329,
   "metadata": {},
   "outputs": [
    {
     "data": {
      "text/plain": [
       "tensor([[0., 0., 0., 0.],\n",
       "        [0., 0., 0., 0.],\n",
       "        [0., 0., 0., 0.]])"
      ]
     },
     "execution_count": 329,
     "metadata": {},
     "output_type": "execute_result"
    }
   ],
   "source": [
    "ze*random_tensor"
   ]
  },
  {
   "cell_type": "code",
   "execution_count": 330,
   "metadata": {},
   "outputs": [
    {
     "data": {
      "text/plain": [
       "tensor([[1., 1., 1., 1.],\n",
       "        [1., 1., 1., 1.],\n",
       "        [1., 1., 1., 1.]])"
      ]
     },
     "execution_count": 330,
     "metadata": {},
     "output_type": "execute_result"
    }
   ],
   "source": [
    "# Create a tensor of ones\n",
    "one = torch.ones(size=(3,4) ) \n",
    "one"
   ]
  },
  {
   "cell_type": "markdown",
   "metadata": {},
   "source": [
    "### Creating a Range of Tensors and Tensor-like"
   ]
  },
  {
   "cell_type": "code",
   "execution_count": 331,
   "metadata": {},
   "outputs": [
    {
     "data": {
      "text/plain": [
       "tensor([ 1,  6, 11, 16, 21, 26, 31, 36, 41, 46, 51, 56, 61, 66, 71, 76, 81, 86,\n",
       "        91, 96])"
      ]
     },
     "execution_count": 331,
     "metadata": {},
     "output_type": "execute_result"
    }
   ],
   "source": [
    "# Use torch.arange()\n",
    "one_to_ten = torch.arange(start=1, end=100, step=5)\n",
    "one_to_ten"
   ]
  },
  {
   "cell_type": "code",
   "execution_count": 332,
   "metadata": {},
   "outputs": [
    {
     "data": {
      "text/plain": [
       "'2.3.1'"
      ]
     },
     "execution_count": 332,
     "metadata": {},
     "output_type": "execute_result"
    }
   ],
   "source": [
    "torch.__version__"
   ]
  },
  {
   "cell_type": "code",
   "execution_count": 333,
   "metadata": {},
   "outputs": [
    {
     "data": {
      "text/plain": [
       "tensor([0, 0, 0, 0, 0, 0, 0, 0, 0, 0, 0, 0, 0, 0, 0, 0, 0, 0, 0, 0])"
      ]
     },
     "execution_count": 333,
     "metadata": {},
     "output_type": "execute_result"
    }
   ],
   "source": [
    "# Creating Tensors Like\n",
    "ten_zeros = torch.zeros_like(input=one_to_ten)\n",
    "ten_zeros"
   ]
  },
  {
   "cell_type": "markdown",
   "metadata": {},
   "source": [
    "### Tensor Datatypes\n",
    "**Note:** Tensor datatypes is one of the 3 big errors you'll run into with Pytorch & Deeplearning\n",
    "1. Tensors not right datatype\n",
    "2. Tensor not right shape\n",
    "3. Tensor not on the right device"
   ]
  },
  {
   "cell_type": "code",
   "execution_count": 334,
   "metadata": {},
   "outputs": [
    {
     "data": {
      "text/plain": [
       "tensor([3., 4., 5.])"
      ]
     },
     "execution_count": 334,
     "metadata": {},
     "output_type": "execute_result"
    }
   ],
   "source": [
    "# Float 32 tensor\n",
    "float_32_tensor = torch.tensor([3.0,4.0,5.0], \n",
    "                               dtype=None, # What datatype is the tensor (e.g: float32/16)\n",
    "                               device=None, # What device is your tensor on\n",
    "                               requires_grad=False # Whether or not to track gradients with this tensor operation\n",
    "                               \n",
    "                               )\n",
    "float_32_tensor"
   ]
  },
  {
   "cell_type": "code",
   "execution_count": 335,
   "metadata": {},
   "outputs": [
    {
     "data": {
      "text/plain": [
       "torch.float32"
      ]
     },
     "execution_count": 335,
     "metadata": {},
     "output_type": "execute_result"
    }
   ],
   "source": [
    "float_32_tensor.dtype # default data type in Pytorch: float32 "
   ]
  },
  {
   "cell_type": "code",
   "execution_count": 336,
   "metadata": {},
   "outputs": [
    {
     "data": {
      "text/plain": [
       "tensor([3., 4., 5.], dtype=torch.float16)"
      ]
     },
     "execution_count": 336,
     "metadata": {},
     "output_type": "execute_result"
    }
   ],
   "source": [
    "float_16_tensor = float_32_tensor.type(torch.float16)\n",
    "float_16_tensor"
   ]
  },
  {
   "cell_type": "code",
   "execution_count": 337,
   "metadata": {},
   "outputs": [
    {
     "data": {
      "text/plain": [
       "tensor([ 9., 16., 25.])"
      ]
     },
     "execution_count": 337,
     "metadata": {},
     "output_type": "execute_result"
    }
   ],
   "source": [
    "float_16_tensor * float_32_tensor"
   ]
  },
  {
   "cell_type": "markdown",
   "metadata": {},
   "source": [
    "### Getting information from Tensors\n",
    "1. Datatype: tensor.dtype\n",
    "2. Shape: tensor.shape\n",
    "3. Device: tensor.device"
   ]
  },
  {
   "cell_type": "code",
   "execution_count": 338,
   "metadata": {},
   "outputs": [
    {
     "data": {
      "text/plain": [
       "tensor([[0.2933, 0.5889, 0.4117],\n",
       "        [0.0992, 0.3078, 0.7786],\n",
       "        [0.8016, 0.3649, 0.6286],\n",
       "        [0.9663, 0.7687, 0.4566]])"
      ]
     },
     "execution_count": 338,
     "metadata": {},
     "output_type": "execute_result"
    }
   ],
   "source": [
    "# Create a tensor\n",
    "some_tensor = torch.rand(4,3)\n",
    "some_tensor"
   ]
  },
  {
   "cell_type": "code",
   "execution_count": 339,
   "metadata": {},
   "outputs": [
    {
     "name": "stdout",
     "output_type": "stream",
     "text": [
      "some_tensor\n",
      "Datatype of tensor: torch.float32\n",
      "Shape of tensor: torch.Size([4, 3])\n",
      "Device tensor is on: cpu\n"
     ]
    }
   ],
   "source": [
    "# Find out details ab some tensor\n",
    "print(\"some_tensor\")\n",
    "print(f\"Datatype of tensor: {some_tensor.dtype}\")\n",
    "print(f\"Shape of tensor: {some_tensor.shape}\")\n",
    "print(f\"Device tensor is on: {some_tensor.device}\")"
   ]
  },
  {
   "cell_type": "markdown",
   "metadata": {},
   "source": [
    "### Manipulating Tensors (Tensors Operation)\n",
    "Tensor Operation include:\n",
    "* Addition\n",
    "* Subtraction\n",
    "* Multiplication\n",
    "* Division\n",
    "* Matrix Multiplication \n"
   ]
  },
  {
   "cell_type": "code",
   "execution_count": 340,
   "metadata": {},
   "outputs": [
    {
     "data": {
      "text/plain": [
       "tensor([101, 102, 103])"
      ]
     },
     "execution_count": 340,
     "metadata": {},
     "output_type": "execute_result"
    }
   ],
   "source": [
    "# Create a tensor\n",
    "tensor = torch.tensor([1,2,3])\n",
    "tensor + 100"
   ]
  },
  {
   "cell_type": "code",
   "execution_count": 341,
   "metadata": {},
   "outputs": [
    {
     "data": {
      "text/plain": [
       "tensor([10, 20, 30])"
      ]
     },
     "execution_count": 341,
     "metadata": {},
     "output_type": "execute_result"
    }
   ],
   "source": [
    "# Multiply by 10\n",
    "tensor * 10\n",
    "# torch.mul(tensor, 10)"
   ]
  },
  {
   "cell_type": "code",
   "execution_count": 342,
   "metadata": {},
   "outputs": [
    {
     "data": {
      "text/plain": [
       "tensor([-9, -8, -7])"
      ]
     },
     "execution_count": 342,
     "metadata": {},
     "output_type": "execute_result"
    }
   ],
   "source": [
    "# Subtract 10\n",
    "tensor - 10\n"
   ]
  },
  {
   "cell_type": "markdown",
   "metadata": {},
   "source": [
    "### Matrix Multiplication\n",
    "Two main ways of performing multiplication in neural networks and deep learning:\n",
    "1. Element wise multiplication\n",
    "2. Matrix multiplication (dot product)\n",
    "\n",
    "There are two main rules that performing matrix multiplication needs to satisfy:\n",
    "1. The **inner dimensions** must match:\n",
    "* `(3,2) @ (3,2)` won't work\n",
    "* `(2,3) @ (3,2)` work\n",
    "* `(3,2) @ (2,3)` work\n",
    "\n",
    "2. The resulting matrix has the shape of the **outer dimensions**:\n",
    "*  `(2,3) @ (3,2)` -> `(2,2)`"
   ]
  },
  {
   "cell_type": "code",
   "execution_count": 343,
   "metadata": {},
   "outputs": [
    {
     "data": {
      "text/plain": [
       "tensor([1, 4, 9])"
      ]
     },
     "execution_count": 343,
     "metadata": {},
     "output_type": "execute_result"
    }
   ],
   "source": [
    "# Element wise multiplication\n",
    "tensor * tensor"
   ]
  },
  {
   "cell_type": "code",
   "execution_count": 344,
   "metadata": {},
   "outputs": [
    {
     "data": {
      "text/plain": [
       "tensor(14)"
      ]
     },
     "execution_count": 344,
     "metadata": {},
     "output_type": "execute_result"
    }
   ],
   "source": [
    "# Matrix multiplication\n",
    "torch.matmul(tensor, tensor)"
   ]
  },
  {
   "cell_type": "markdown",
   "metadata": {},
   "source": [
    "#### Compare time to calculate matrix multiplication by hand vs func"
   ]
  },
  {
   "cell_type": "code",
   "execution_count": 345,
   "metadata": {},
   "outputs": [
    {
     "name": "stdout",
     "output_type": "stream",
     "text": [
      "tensor(12)\n",
      "CPU times: total: 0 ns\n",
      "Wall time: 1.01 ms\n"
     ]
    }
   ],
   "source": [
    "%%time \n",
    "value = 0 \n",
    "for i in range(len(tensor)):\n",
    "    value += tensor[i] + tensor[i]\n",
    "print(value)"
   ]
  },
  {
   "cell_type": "code",
   "execution_count": 346,
   "metadata": {},
   "outputs": [
    {
     "name": "stdout",
     "output_type": "stream",
     "text": [
      "CPU times: total: 0 ns\n",
      "Wall time: 0 ns\n"
     ]
    },
    {
     "data": {
      "text/plain": [
       "tensor(14)"
      ]
     },
     "execution_count": 346,
     "metadata": {},
     "output_type": "execute_result"
    }
   ],
   "source": [
    "%%time\n",
    "torch.matmul(tensor, tensor)"
   ]
  },
  {
   "cell_type": "markdown",
   "metadata": {},
   "source": [
    "### One of the most common errors in deep learning: Shape errors"
   ]
  },
  {
   "cell_type": "code",
   "execution_count": 347,
   "metadata": {},
   "outputs": [],
   "source": [
    "# tensor_a = torch.tensor([   [1,2],\n",
    "#                             [3,4],\n",
    "#                             [5,6]\n",
    "#                          ])\n",
    "\n",
    "# tensor_b = torch.tensor([   [7,10],\n",
    "#                             [8,11],\n",
    "#                             [9,12]\n",
    "#                          ])\n",
    "\n",
    "# torch.matmul(tensor_a, tensor_b) # Error in shape"
   ]
  },
  {
   "cell_type": "markdown",
   "metadata": {},
   "source": [
    "To fix our tensor shape issues, we can manipulate the shape of one of our tensors using a **transpose**\n",
    "\n",
    "A **transpose** switches the axes or dimensions of a given tensor"
   ]
  },
  {
   "cell_type": "code",
   "execution_count": 348,
   "metadata": {},
   "outputs": [
    {
     "data": {
      "text/plain": [
       "tensor([[ 7,  8,  9],\n",
       "        [10, 11, 12]])"
      ]
     },
     "execution_count": 348,
     "metadata": {},
     "output_type": "execute_result"
    }
   ],
   "source": [
    "tensor_b.T"
   ]
  },
  {
   "cell_type": "code",
   "execution_count": 349,
   "metadata": {},
   "outputs": [
    {
     "data": {
      "text/plain": [
       "tensor([[ 27,  30,  33],\n",
       "        [ 61,  68,  75],\n",
       "        [ 95, 106, 117]])"
      ]
     },
     "execution_count": 349,
     "metadata": {},
     "output_type": "execute_result"
    }
   ],
   "source": [
    "torch.matmul(tensor_a, tensor_b.T)"
   ]
  },
  {
   "cell_type": "markdown",
   "metadata": {},
   "source": [
    "## Finding Min Max Mean Sum Etc (Tensor Aggregation)"
   ]
  },
  {
   "cell_type": "code",
   "execution_count": 350,
   "metadata": {},
   "outputs": [
    {
     "data": {
      "text/plain": [
       "tensor([ 1, 11, 21, 31, 41, 51, 61, 71, 81, 91])"
      ]
     },
     "execution_count": 350,
     "metadata": {},
     "output_type": "execute_result"
    }
   ],
   "source": [
    "# Create a tensor\n",
    "x = torch.arange(1, 100, 10)\n",
    "x"
   ]
  },
  {
   "cell_type": "code",
   "execution_count": 351,
   "metadata": {},
   "outputs": [
    {
     "data": {
      "text/plain": [
       "tensor(1)"
      ]
     },
     "execution_count": 351,
     "metadata": {},
     "output_type": "execute_result"
    }
   ],
   "source": [
    "# Find the min\n",
    "torch.min(x) # x.min()"
   ]
  },
  {
   "cell_type": "code",
   "execution_count": 352,
   "metadata": {},
   "outputs": [
    {
     "data": {
      "text/plain": [
       "tensor(91)"
      ]
     },
     "execution_count": 352,
     "metadata": {},
     "output_type": "execute_result"
    }
   ],
   "source": [
    "# Find the max\n",
    "torch.max(x) # x.max()"
   ]
  },
  {
   "cell_type": "code",
   "execution_count": 353,
   "metadata": {},
   "outputs": [
    {
     "data": {
      "text/plain": [
       "torch.int64"
      ]
     },
     "execution_count": 353,
     "metadata": {},
     "output_type": "execute_result"
    }
   ],
   "source": [
    "x.dtype"
   ]
  },
  {
   "cell_type": "code",
   "execution_count": 354,
   "metadata": {},
   "outputs": [],
   "source": [
    "# # Find the mean\n",
    "# torch.mean(x) # This function doesn't accept integer values so -> to float"
   ]
  },
  {
   "cell_type": "code",
   "execution_count": 355,
   "metadata": {},
   "outputs": [
    {
     "data": {
      "text/plain": [
       "tensor(46.)"
      ]
     },
     "execution_count": 355,
     "metadata": {},
     "output_type": "execute_result"
    }
   ],
   "source": [
    "torch.mean(x.type(torch.float32)) # x.type(torch.float32).mean()"
   ]
  },
  {
   "cell_type": "markdown",
   "metadata": {},
   "source": [
    "## Finding the positional Min & Max"
   ]
  },
  {
   "cell_type": "code",
   "execution_count": 356,
   "metadata": {},
   "outputs": [
    {
     "data": {
      "text/plain": [
       "tensor(0)"
      ]
     },
     "execution_count": 356,
     "metadata": {},
     "output_type": "execute_result"
    }
   ],
   "source": [
    "# Find the position in tensor that has the minimum value with argmin() -> return index pos of target tensor when minimum value occurs\n",
    "x.argmin()"
   ]
  },
  {
   "cell_type": "code",
   "execution_count": 357,
   "metadata": {},
   "outputs": [
    {
     "data": {
      "text/plain": [
       "tensor(1)"
      ]
     },
     "execution_count": 357,
     "metadata": {},
     "output_type": "execute_result"
    }
   ],
   "source": [
    "x[0]"
   ]
  },
  {
   "cell_type": "code",
   "execution_count": 358,
   "metadata": {},
   "outputs": [
    {
     "data": {
      "text/plain": [
       "tensor(9)"
      ]
     },
     "execution_count": 358,
     "metadata": {},
     "output_type": "execute_result"
    }
   ],
   "source": [
    "# Similarly for the Arg Max\n",
    "x.argmax()"
   ]
  },
  {
   "cell_type": "code",
   "execution_count": 359,
   "metadata": {},
   "outputs": [
    {
     "data": {
      "text/plain": [
       "tensor(91)"
      ]
     },
     "execution_count": 359,
     "metadata": {},
     "output_type": "execute_result"
    }
   ],
   "source": [
    "x[9]"
   ]
  },
  {
   "cell_type": "markdown",
   "metadata": {},
   "source": [
    "## Reshaping, Stacking, Squeezing & UnSqueezing Tensors\n",
    "\n",
    "* Reshaping - reshapes an input tensor to a defined shape\n",
    "* View - Return a view of an input tensor of certain shape but keep the same memory as the original tensor\n",
    "* Stacking - Combine multiple tensors on top of each other (vstack) or side by side (hstack)\n",
    "* Squeeze - Remove all `1` dimensions from a tensor\n",
    "* UnSqueeze - Add a `1` dimension to a target tensor\n",
    "* Permute - Return a view of the input with dimensions permuted (swapped) in a certain way"
   ]
  },
  {
   "cell_type": "code",
   "execution_count": 360,
   "metadata": {},
   "outputs": [
    {
     "data": {
      "text/plain": [
       "torch.Size([9])"
      ]
     },
     "execution_count": 360,
     "metadata": {},
     "output_type": "execute_result"
    }
   ],
   "source": [
    "y = torch.arange(1.,10.)\n",
    "y.shape"
   ]
  },
  {
   "cell_type": "code",
   "execution_count": 361,
   "metadata": {},
   "outputs": [
    {
     "data": {
      "text/plain": [
       "torch.Size([1, 9])"
      ]
     },
     "execution_count": 361,
     "metadata": {},
     "output_type": "execute_result"
    }
   ],
   "source": [
    "# Add an extra dimension\n",
    "y_reshaped = y.reshape(1, 9)\n",
    "y_reshaped.shape\n"
   ]
  },
  {
   "cell_type": "code",
   "execution_count": 362,
   "metadata": {},
   "outputs": [
    {
     "data": {
      "text/plain": [
       "(tensor([[1., 2., 3., 4., 5., 6., 7., 8., 9.]]), torch.Size([1, 9]))"
      ]
     },
     "execution_count": 362,
     "metadata": {},
     "output_type": "execute_result"
    }
   ],
   "source": [
    "z = y.view(1, 9)\n",
    "z, z.shape"
   ]
  },
  {
   "cell_type": "code",
   "execution_count": 363,
   "metadata": {},
   "outputs": [
    {
     "data": {
      "text/plain": [
       "(tensor([[5., 2., 3., 4., 5., 6., 7., 8., 9.]]),\n",
       " tensor([5., 2., 3., 4., 5., 6., 7., 8., 9.]))"
      ]
     },
     "execution_count": 363,
     "metadata": {},
     "output_type": "execute_result"
    }
   ],
   "source": [
    "# Changing z changes x (bc a view of a tensor shares the same memory as the original input)\n",
    "z[:,0] = 5\n",
    "z, y"
   ]
  },
  {
   "cell_type": "code",
   "execution_count": 364,
   "metadata": {},
   "outputs": [
    {
     "data": {
      "text/plain": [
       "tensor([[5., 2., 3., 4., 5., 6., 7., 8., 9.],\n",
       "        [5., 2., 3., 4., 5., 6., 7., 8., 9.],\n",
       "        [5., 2., 3., 4., 5., 6., 7., 8., 9.],\n",
       "        [5., 2., 3., 4., 5., 6., 7., 8., 9.]])"
      ]
     },
     "execution_count": 364,
     "metadata": {},
     "output_type": "execute_result"
    }
   ],
   "source": [
    "# Stack Tensors on top of each other \n",
    "y_stacked = torch.stack([y, y, y, y], dim=0)\n",
    "y_stacked"
   ]
  },
  {
   "cell_type": "code",
   "execution_count": 365,
   "metadata": {},
   "outputs": [
    {
     "data": {
      "text/plain": [
       "(tensor([[5., 2., 3., 4., 5., 6., 7., 8., 9.]]), torch.Size([1, 9]))"
      ]
     },
     "execution_count": 365,
     "metadata": {},
     "output_type": "execute_result"
    }
   ],
   "source": [
    "y_reshaped, y_reshaped.shape\n"
   ]
  },
  {
   "cell_type": "code",
   "execution_count": 366,
   "metadata": {},
   "outputs": [
    {
     "data": {
      "text/plain": [
       "(tensor([5., 2., 3., 4., 5., 6., 7., 8., 9.]), torch.Size([9]))"
      ]
     },
     "execution_count": 366,
     "metadata": {},
     "output_type": "execute_result"
    }
   ],
   "source": [
    "# Squeeze -> Remove all single dimensions from a target tensor\n",
    "y_squeezed = y_reshaped.squeeze(dim=0)\n",
    "y_squeezed , y_squeezed.shape"
   ]
  },
  {
   "cell_type": "code",
   "execution_count": 367,
   "metadata": {},
   "outputs": [
    {
     "data": {
      "text/plain": [
       "(tensor([[5.],\n",
       "         [2.],\n",
       "         [3.],\n",
       "         [4.],\n",
       "         [5.],\n",
       "         [6.],\n",
       "         [7.],\n",
       "         [8.],\n",
       "         [9.]]),\n",
       " torch.Size([9, 1]))"
      ]
     },
     "execution_count": 367,
     "metadata": {},
     "output_type": "execute_result"
    }
   ],
   "source": [
    "# torch.unsqueeze -> adds a single dimension to a target tensor at a specific dimension\n",
    "y_unsqueezed = y_squeezed.unsqueeze(dim=1)\n",
    "y_unsqueezed, y_unsqueezed.shape"
   ]
  },
  {
   "cell_type": "code",
   "execution_count": 368,
   "metadata": {},
   "outputs": [
    {
     "data": {
      "text/plain": [
       "(torch.Size([224, 119, 3]), torch.Size([3, 224, 119]))"
      ]
     },
     "execution_count": 368,
     "metadata": {},
     "output_type": "execute_result"
    }
   ],
   "source": [
    "# torch.permute - rearranges the dimensions of a target tensor in a specified order\n",
    "x_original = torch.rand(size=(224,119,3)) # [height, width, colour channels]\n",
    "\n",
    "# Permute original tensor to rearrange the axis (or dim) order\n",
    "x_permuted = x_original.permute(2,0,1) # shifts axis 0 -> 1, 1 -> 2, \n",
    "\n",
    "x_original.shape, x_permuted.shape\n"
   ]
  },
  {
   "cell_type": "code",
   "execution_count": 369,
   "metadata": {},
   "outputs": [
    {
     "data": {
      "text/plain": [
       "(tensor(728218.), tensor(728218.))"
      ]
     },
     "execution_count": 369,
     "metadata": {},
     "output_type": "execute_result"
    }
   ],
   "source": [
    "x_original[0,0,0] =728218\n",
    "x_original[0,0,0], x_permuted[0,0,0]"
   ]
  },
  {
   "cell_type": "markdown",
   "metadata": {},
   "source": [
    "## Indexing (selecting data from tensors)\n",
    "\n",
    "Indexing with Pytorch is similar to Indexing with NumPy"
   ]
  },
  {
   "cell_type": "code",
   "execution_count": 370,
   "metadata": {},
   "outputs": [
    {
     "data": {
      "text/plain": [
       "(tensor([[[1, 2, 3],\n",
       "          [4, 5, 6],\n",
       "          [7, 8, 9]]]),\n",
       " torch.Size([1, 3, 3]))"
      ]
     },
     "execution_count": 370,
     "metadata": {},
     "output_type": "execute_result"
    }
   ],
   "source": [
    "z = torch.arange(1,10).reshape(1,3,3)\n",
    "z, z.shape"
   ]
  },
  {
   "cell_type": "code",
   "execution_count": 371,
   "metadata": {},
   "outputs": [
    {
     "data": {
      "text/plain": [
       "tensor([[1, 2, 3],\n",
       "        [4, 5, 6],\n",
       "        [7, 8, 9]])"
      ]
     },
     "execution_count": 371,
     "metadata": {},
     "output_type": "execute_result"
    }
   ],
   "source": [
    "# Let's index on our new tensor \n",
    "z[0]"
   ]
  },
  {
   "cell_type": "code",
   "execution_count": 372,
   "metadata": {},
   "outputs": [
    {
     "data": {
      "text/plain": [
       "tensor([1, 2, 3])"
      ]
     },
     "execution_count": 372,
     "metadata": {},
     "output_type": "execute_result"
    }
   ],
   "source": [
    "# Let's index on the mid bracket (dim = 1)\n",
    "z[0][0] # z[0,0]"
   ]
  },
  {
   "cell_type": "code",
   "execution_count": 373,
   "metadata": {},
   "outputs": [
    {
     "data": {
      "text/plain": [
       "tensor(9)"
      ]
     },
     "execution_count": 373,
     "metadata": {},
     "output_type": "execute_result"
    }
   ],
   "source": [
    "# Let's index on the most inner bracket (last dimension)\n",
    "z[0,2,2]"
   ]
  },
  {
   "cell_type": "code",
   "execution_count": 374,
   "metadata": {},
   "outputs": [
    {
     "data": {
      "text/plain": [
       "tensor([[1, 2, 3]])"
      ]
     },
     "execution_count": 374,
     "metadata": {},
     "output_type": "execute_result"
    }
   ],
   "source": [
    "# You can also use \"::\" to select \"all\" of a target dimension\n",
    "z[:, 0]"
   ]
  },
  {
   "cell_type": "code",
   "execution_count": 375,
   "metadata": {},
   "outputs": [
    {
     "data": {
      "text/plain": [
       "tensor([[2, 5, 8]])"
      ]
     },
     "execution_count": 375,
     "metadata": {},
     "output_type": "execute_result"
    }
   ],
   "source": [
    "# Get all values of 0th and 1st dimensions but only index 1 of 2nd dimension\n",
    "z[:,:,1]"
   ]
  },
  {
   "cell_type": "code",
   "execution_count": 376,
   "metadata": {},
   "outputs": [
    {
     "data": {
      "text/plain": [
       "tensor(3)"
      ]
     },
     "execution_count": 376,
     "metadata": {},
     "output_type": "execute_result"
    }
   ],
   "source": [
    "z[0,0,2]"
   ]
  },
  {
   "cell_type": "markdown",
   "metadata": {},
   "source": [
    "## Pytorch tensors & NumPy\n",
    "Numpy is a popular scientific Python numerical computing library. \n",
    "And bc of this, Pytorch has functionality to interact with it\n",
    "* Data in NumPy, want in Pytorch tensor -> `torch.from_numpy(ndarray)`\n",
    "* Pytorch tensor -> NumPy -> `torch.Tensor.numpy()`"
   ]
  },
  {
   "cell_type": "code",
   "execution_count": 377,
   "metadata": {},
   "outputs": [
    {
     "data": {
      "text/plain": [
       "(array([1, 2, 3, 4, 5, 6, 7]), tensor([1., 2., 3., 4., 5., 6., 7.]))"
      ]
     },
     "execution_count": 377,
     "metadata": {},
     "output_type": "execute_result"
    }
   ],
   "source": [
    "array = np.arange(1,8)\n",
    "tensor = torch.from_numpy(array).type(torch.float32) # warning: when converting from numpy -> pytorch, pytorch reflects numpy default datatype unless specified otherwise\n",
    "\n",
    "array, tensor "
   ]
  },
  {
   "cell_type": "code",
   "execution_count": 378,
   "metadata": {},
   "outputs": [
    {
     "data": {
      "text/plain": [
       "(array([2, 3, 4, 5, 6, 7, 8]), tensor([1., 2., 3., 4., 5., 6., 7.]))"
      ]
     },
     "execution_count": 378,
     "metadata": {},
     "output_type": "execute_result"
    }
   ],
   "source": [
    "# Change the value of array, what will this do to `tensor`\n",
    "array = array + 1\n",
    "array, tensor"
   ]
  },
  {
   "cell_type": "code",
   "execution_count": 379,
   "metadata": {},
   "outputs": [
    {
     "data": {
      "text/plain": [
       "(tensor([1., 1., 1., 1., 1., 1., 1.]),\n",
       " array([1., 1., 1., 1., 1., 1., 1.], dtype=float32))"
      ]
     },
     "execution_count": 379,
     "metadata": {},
     "output_type": "execute_result"
    }
   ],
   "source": [
    "# Tensor to Numpy array\n",
    "tensor = torch.ones(7)\n",
    "numpy_tensor = tensor.numpy()\n",
    "tensor, numpy_tensor"
   ]
  },
  {
   "cell_type": "code",
   "execution_count": 380,
   "metadata": {},
   "outputs": [
    {
     "data": {
      "text/plain": [
       "(tensor([2., 2., 2., 2., 2., 2., 2.]),\n",
       " array([1., 1., 1., 1., 1., 1., 1.], dtype=float32))"
      ]
     },
     "execution_count": 380,
     "metadata": {},
     "output_type": "execute_result"
    }
   ],
   "source": [
    "# Change the tensor, what happens to numpy_tensor\n",
    "tensor = tensor + 1 \n",
    "tensor, numpy_tensor"
   ]
  },
  {
   "cell_type": "markdown",
   "metadata": {},
   "source": [
    "## Reproducibility (trying to take random out of random)\n",
    "\n",
    "In short how a neural network learns:\n",
    "\n",
    "`start with random numbers -> tensor operations -> update random numbers to try and make them better representations of the data -> again x 3.14 `\n",
    "\n",
    "To reduce the randomness in neural networks and Pytorch comes the concept of a **random seed**\n",
    "Essentially what the random seed is \"flavour\" the randomness"
   ]
  },
  {
   "cell_type": "code",
   "execution_count": 381,
   "metadata": {},
   "outputs": [
    {
     "data": {
      "text/plain": [
       "tensor([[0.1299, 0.4678, 0.4315],\n",
       "        [0.4761, 0.0983, 0.9598],\n",
       "        [0.9728, 0.6086, 0.3798]])"
      ]
     },
     "execution_count": 381,
     "metadata": {},
     "output_type": "execute_result"
    }
   ],
   "source": [
    "torch.rand(3,3)"
   ]
  },
  {
   "cell_type": "code",
   "execution_count": 382,
   "metadata": {},
   "outputs": [
    {
     "name": "stdout",
     "output_type": "stream",
     "text": [
      "tensor([[True, True, True, True],\n",
      "        [True, True, True, True],\n",
      "        [True, True, True, True]])\n"
     ]
    }
   ],
   "source": [
    "random_seed = 42\n",
    "torch.manual_seed(random_seed)\n",
    "random_tensor_c = torch.rand(3,4)\n",
    "\n",
    "torch.manual_seed(random_seed)\n",
    "random_tensor_d = torch.rand(3,4)\n",
    "\n",
    "print(random_tensor_c == random_tensor_d)"
   ]
  },
  {
   "cell_type": "markdown",
   "metadata": {},
   "source": [
    "## Running tensors and Pytorch objects on the GPUs (and making faster computations)\n",
    "GPUs = faster computation on numbers, CUDA + NVIDIA hardware + Pytorch working behind the scenes to make everything hunky dory\n"
   ]
  },
  {
   "cell_type": "code",
   "execution_count": 383,
   "metadata": {},
   "outputs": [
    {
     "data": {
      "text/plain": [
       "True"
      ]
     },
     "execution_count": 383,
     "metadata": {},
     "output_type": "execute_result"
    }
   ],
   "source": [
    "import torch\n",
    "torch.cuda.is_available()"
   ]
  },
  {
   "cell_type": "code",
   "execution_count": 384,
   "metadata": {},
   "outputs": [
    {
     "data": {
      "text/plain": [
       "'cuda'"
      ]
     },
     "execution_count": 384,
     "metadata": {},
     "output_type": "execute_result"
    }
   ],
   "source": [
    "# Set up agnostic code \n",
    "device = \"cuda\" if torch.cuda.is_available() else 'cpu'\n",
    "device"
   ]
  },
  {
   "cell_type": "code",
   "execution_count": 385,
   "metadata": {},
   "outputs": [
    {
     "data": {
      "text/plain": [
       "1"
      ]
     },
     "execution_count": 385,
     "metadata": {},
     "output_type": "execute_result"
    }
   ],
   "source": [
    "# Count number of devices\n",
    "torch.cuda.device_count()"
   ]
  },
  {
   "cell_type": "markdown",
   "metadata": {},
   "source": [
    "## 3. Putting tensors (and models) on the GPU\n",
    "The reason we want our tensors/models on the GPU is bc using a GPU results in faster computations. "
   ]
  },
  {
   "cell_type": "code",
   "execution_count": 386,
   "metadata": {},
   "outputs": [
    {
     "name": "stdout",
     "output_type": "stream",
     "text": [
      "tensor([1, 2, 3]) cpu\n"
     ]
    }
   ],
   "source": [
    "ahe = torch.tensor([1,2,3])\n",
    "\n",
    "# Tensor not on GPU \n",
    "print(ahe, tensor.device)"
   ]
  },
  {
   "cell_type": "code",
   "execution_count": 387,
   "metadata": {},
   "outputs": [
    {
     "data": {
      "text/plain": [
       "tensor([1, 2, 3], device='cuda:0')"
      ]
     },
     "execution_count": 387,
     "metadata": {},
     "output_type": "execute_result"
    }
   ],
   "source": [
    "# Move tensor to GPU (if available)\n",
    "tensor_on_gpu = ahe.to(device)\n",
    "tensor_on_gpu"
   ]
  },
  {
   "cell_type": "markdown",
   "metadata": {},
   "source": [
    "### 4. Moving tensors back to the CPU\n"
   ]
  },
  {
   "cell_type": "code",
   "execution_count": 388,
   "metadata": {},
   "outputs": [
    {
     "data": {
      "text/plain": [
       "array([1, 2, 3], dtype=int64)"
      ]
     },
     "execution_count": 388,
     "metadata": {},
     "output_type": "execute_result"
    }
   ],
   "source": [
    "# If tensor is on gpu, can't transform it to numpy -> set it to to cpu\n",
    "tensor_back_on_cpu = tensor_on_gpu.cpu().numpy()\n",
    "tensor_back_on_cpu"
   ]
  },
  {
   "cell_type": "code",
   "execution_count": 389,
   "metadata": {},
   "outputs": [
    {
     "data": {
      "text/plain": [
       "tensor([1, 2, 3], device='cuda:0')"
      ]
     },
     "execution_count": 389,
     "metadata": {},
     "output_type": "execute_result"
    }
   ],
   "source": [
    "tensor_on_gpu"
   ]
  },
  {
   "cell_type": "code",
   "execution_count": 390,
   "metadata": {},
   "outputs": [
    {
     "data": {
      "text/plain": [
       "tensor([[0.8694, 0.5677, 0.7411, 0.4294, 0.8854, 0.5739, 0.2666],\n",
       "        [0.6274, 0.2696, 0.4414, 0.2969, 0.8317, 0.1053, 0.2695],\n",
       "        [0.3588, 0.1994, 0.5472, 0.0062, 0.9516, 0.0753, 0.8860],\n",
       "        [0.5832, 0.3376, 0.8090, 0.5779, 0.9040, 0.5547, 0.3423],\n",
       "        [0.6343, 0.3644, 0.7104, 0.9464, 0.7890, 0.2814, 0.7886],\n",
       "        [0.5895, 0.7539, 0.1952, 0.0050, 0.3068, 0.1165, 0.9103],\n",
       "        [0.6440, 0.7071, 0.6581, 0.4913, 0.8913, 0.1447, 0.5315]])"
      ]
     },
     "execution_count": 390,
     "metadata": {},
     "output_type": "execute_result"
    }
   ],
   "source": [
    "''' \n",
    "Create a random tensor with shape (7, 7).\n",
    "'''\n",
    "a = torch.rand(7,7)\n",
    "a"
   ]
  },
  {
   "cell_type": "code",
   "execution_count": 391,
   "metadata": {},
   "outputs": [
    {
     "data": {
      "text/plain": [
       "tensor([[0.1587, 0.6542, 0.3278, 0.6532, 0.3958, 0.9147, 0.2036]])"
      ]
     },
     "execution_count": 391,
     "metadata": {},
     "output_type": "execute_result"
    }
   ],
   "source": [
    "'''\n",
    "Perform a matrix multiplication on the tensor from 2 with another random tensor with shape (1, 7) (hint: you may have to transpose the second tensor).\n",
    "'''\n",
    "b = torch.rand(1,7)\n",
    "b"
   ]
  },
  {
   "cell_type": "code",
   "execution_count": 392,
   "metadata": {},
   "outputs": [
    {
     "data": {
      "text/plain": [
       "tensor([[1.9625],\n",
       "        [1.0950],\n",
       "        [0.9967],\n",
       "        [1.8910],\n",
       "        [1.9205],\n",
       "        [1.0674],\n",
       "        [1.6949]])"
      ]
     },
     "execution_count": 392,
     "metadata": {},
     "output_type": "execute_result"
    }
   ],
   "source": [
    "torch.matmul(a,b.T)"
   ]
  },
  {
   "cell_type": "code",
   "execution_count": 393,
   "metadata": {},
   "outputs": [
    {
     "data": {
      "text/plain": [
       "tensor([[3.2618],\n",
       "        [3.4084],\n",
       "        [2.4866],\n",
       "        [1.4525],\n",
       "        [1.7079],\n",
       "        [2.7291],\n",
       "        [2.9204]])"
      ]
     },
     "execution_count": 393,
     "metadata": {},
     "output_type": "execute_result"
    }
   ],
   "source": [
    "''' \n",
    "Set the random seed to 0 and do exercises 2 & 3 over again.\n",
    "'''\n",
    "\n",
    "random = 0\n",
    "torch.manual_seed(random_seed)\n",
    "a = torch.rand(7,7)\n",
    "\n",
    "torch.manual_seed(random_seed)\n",
    "b = torch.rand(1,7)\n",
    "a, b\n",
    "torch.matmul(a,b.T)\n"
   ]
  },
  {
   "cell_type": "code",
   "execution_count": 394,
   "metadata": {},
   "outputs": [],
   "source": [
    "''' \n",
    "Speaking of random seeds, we saw how to set it with torch.manual_seed() but is there a GPU equivalent? \n",
    "(hint: you'll need to look into the documentation for torch.cuda for this one). If there is, set the GPU random seed to 1234.\n",
    "\n",
    "'''\n",
    "\n",
    "random_seed = 1234\n",
    "torch.cuda.manual_seed(random_seed)"
   ]
  },
  {
   "cell_type": "code",
   "execution_count": 395,
   "metadata": {},
   "outputs": [
    {
     "data": {
      "text/plain": [
       "(tensor([[0.0290, 0.4019, 0.2598],\n",
       "         [0.3666, 0.0583, 0.7006]], device='cuda:0'),\n",
       " tensor([[0.0518, 0.4681, 0.6738],\n",
       "         [0.3315, 0.7837, 0.5631]], device='cuda:0'))"
      ]
     },
     "execution_count": 395,
     "metadata": {},
     "output_type": "execute_result"
    }
   ],
   "source": [
    "''' \n",
    "Create two random tensors of shape (2, 3) and send them both to the GPU (you'll need access to a GPU for this). \n",
    "Set torch.manual_seed(1234) when creating the tensors (this doesn't have to be the GPU random seed).\n",
    "'''\n",
    "torch.manual_seed(1234)\n",
    "d = torch.rand(2,3).to(device)\n",
    "e = torch.rand(2,3).to(device)\n",
    "\n",
    "d, e"
   ]
  },
  {
   "cell_type": "code",
   "execution_count": 396,
   "metadata": {},
   "outputs": [
    {
     "data": {
      "text/plain": [
       "(device(type='cuda', index=0), device(type='cuda', index=0))"
      ]
     },
     "execution_count": 396,
     "metadata": {},
     "output_type": "execute_result"
    }
   ],
   "source": [
    "d_on_gpu = d.to(device)\n",
    "e_on_gpu = e.to(device)\n",
    "d_on_gpu.device, e_on_gpu.device"
   ]
  },
  {
   "cell_type": "code",
   "execution_count": 397,
   "metadata": {},
   "outputs": [
    {
     "data": {
      "text/plain": [
       "tensor([[0.3647, 0.4709],\n",
       "        [0.5184, 0.5617]], device='cuda:0')"
      ]
     },
     "execution_count": 397,
     "metadata": {},
     "output_type": "execute_result"
    }
   ],
   "source": [
    "'''\n",
    "Perform a matrix multiplication on the tensors you created in 6 (again, you may have to adjust the shapes of one of the tensors).\n",
    "'''\n",
    "he = torch.matmul(d,e.T)\n",
    "he"
   ]
  },
  {
   "cell_type": "code",
   "execution_count": 398,
   "metadata": {},
   "outputs": [
    {
     "data": {
      "text/plain": [
       "(tensor(0.5617, device='cuda:0'), tensor(0.3647, device='cuda:0'))"
      ]
     },
     "execution_count": 398,
     "metadata": {},
     "output_type": "execute_result"
    }
   ],
   "source": [
    "''' \n",
    "Find the maximum and minimum values of the output of 7\n",
    "'''\n",
    "he.max(), he.min()"
   ]
  },
  {
   "cell_type": "code",
   "execution_count": 399,
   "metadata": {},
   "outputs": [
    {
     "data": {
      "text/plain": [
       "(tensor(3, device='cuda:0'), tensor(0, device='cuda:0'))"
      ]
     },
     "execution_count": 399,
     "metadata": {},
     "output_type": "execute_result"
    }
   ],
   "source": [
    "''' \n",
    "Find the maximum and minimum index values of the output of 7.\n",
    "'''\n",
    "he.argmax(), he.argmin()"
   ]
  },
  {
   "cell_type": "code",
   "execution_count": 400,
   "metadata": {},
   "outputs": [
    {
     "data": {
      "text/plain": [
       "(torch.Size([1, 1, 1, 10]), torch.Size([10]))"
      ]
     },
     "execution_count": 400,
     "metadata": {},
     "output_type": "execute_result"
    }
   ],
   "source": [
    "''' \n",
    "Make a random tensor with shape (1, 1, 1, 10) and then create a new tensor with all the 1 dimensions removed to be left with a tensor of shape (10). \n",
    "Set the seed to 7 when you create it and print out the first tensor and it's shape as well as the second tensor and it's shape.\n",
    "'''\n",
    "f = torch.rand(1,1,1,10)\n",
    "g = f.squeeze()\n",
    "f.shape, g.shape"
   ]
  },
  {
   "cell_type": "markdown",
   "metadata": {},
   "source": [
    "## Pytorch WorkFlow"
   ]
  },
  {
   "cell_type": "code",
   "execution_count": 401,
   "metadata": {},
   "outputs": [
    {
     "data": {
      "text/plain": [
       "{1: 'data (prepare and load)',\n",
       " 2: 'build model',\n",
       " 3: 'fitting the model to data (training)',\n",
       " 4: 'making predictions and evaluating a model (inference)',\n",
       " 5: 'saving and loading a model',\n",
       " 6: 'putting it all together'}"
      ]
     },
     "execution_count": 401,
     "metadata": {},
     "output_type": "execute_result"
    }
   ],
   "source": [
    "what_were_covering = {\n",
    "    1: \"data (prepare and load)\",\n",
    "    2: \"build model\",\n",
    "    3: \"fitting the model to data (training)\",\n",
    "    4: \"making predictions and evaluating a model (inference)\",\n",
    "    5: \"saving and loading a model\",\n",
    "    6: \"putting it all together\"  \n",
    "}\n",
    "what_were_covering"
   ]
  },
  {
   "cell_type": "code",
   "execution_count": 402,
   "metadata": {},
   "outputs": [
    {
     "data": {
      "text/plain": [
       "'2.3.1'"
      ]
     },
     "execution_count": 402,
     "metadata": {},
     "output_type": "execute_result"
    }
   ],
   "source": [
    "from torch import nn #nn contains all of Pytorch's building blocks fpr neural networks\n",
    "torch.__version__"
   ]
  },
  {
   "cell_type": "markdown",
   "metadata": {},
   "source": [
    "## 1. Data (Preparing and loading)\n",
    "\n",
    "* Excel Spreadsheet\n",
    "* Images of any kind\n",
    "* Videos (Youtube has lots of data ...)\n",
    "* Audio like songs or podcasts\n",
    "* DNA\n",
    "* Text\n",
    "\n",
    "Machine learning is a game of two parts: \n",
    "1. Get data into numerical representation\n",
    "2. Build a model to learn patterns in that numerical representation\n",
    "\n",
    "To show case this, let's create some *known* data using the linear regression formula\n",
    "We'll use a linear regression formula to make a straight line with *known* **parameters** "
   ]
  },
  {
   "cell_type": "code",
   "execution_count": 440,
   "metadata": {},
   "outputs": [
    {
     "data": {
      "text/plain": [
       "(tensor([[0.0000],\n",
       "         [0.0200],\n",
       "         [0.0400],\n",
       "         [0.0600],\n",
       "         [0.0800],\n",
       "         [0.1000],\n",
       "         [0.1200],\n",
       "         [0.1400],\n",
       "         [0.1600],\n",
       "         [0.1800]]),\n",
       " tensor([[0.3000],\n",
       "         [0.3140],\n",
       "         [0.3280],\n",
       "         [0.3420],\n",
       "         [0.3560],\n",
       "         [0.3700],\n",
       "         [0.3840],\n",
       "         [0.3980],\n",
       "         [0.4120],\n",
       "         [0.4260]]),\n",
       " 50,\n",
       " 50)"
      ]
     },
     "execution_count": 440,
     "metadata": {},
     "output_type": "execute_result"
    }
   ],
   "source": [
    "# Create known parameters\n",
    "weight = 0.7\n",
    "bias = 0.3\n",
    "\n",
    "start = 0\n",
    "end = 1\n",
    "step = 0.02\n",
    "X = torch.arange(start, end, step).unsqueeze(dim=1)\n",
    "y = weight * X + bias\n",
    "\n",
    "X[:10], y[:10], len(X), len(y)"
   ]
  },
  {
   "cell_type": "markdown",
   "metadata": {},
   "source": [
    "### Slitting Data into training & test sets (one of the most important concepts in machine learning in general)\n",
    "Let's create a training & test set with our data "
   ]
  },
  {
   "cell_type": "code",
   "execution_count": 441,
   "metadata": {},
   "outputs": [
    {
     "data": {
      "text/plain": [
       "(40, 40, 10, 10)"
      ]
     },
     "execution_count": 441,
     "metadata": {},
     "output_type": "execute_result"
    }
   ],
   "source": [
    "# Create a train/test split\n",
    "train_split = int(0.8 * len(X) )\n",
    "X_train, y_train = X[:train_split], y[:train_split]\n",
    "\n",
    "X_test, y_test = X[train_split:], y[train_split:]\n",
    "\n",
    "len(X_train), len(y_train), len(X_test), len(y_test)"
   ]
  },
  {
   "cell_type": "markdown",
   "metadata": {},
   "source": [
    "How might we better visualize our data?\n",
    "\n",
    "This is where the data explorer's motto comes in!\n",
    "\n",
    "**Visualize, Visualize, Visualize** "
   ]
  },
  {
   "cell_type": "code",
   "execution_count": 442,
   "metadata": {},
   "outputs": [],
   "source": [
    "def plot_predictions(train_data=X_train, # type: ignore\n",
    "                     train_labels=y_train,\n",
    "                     test_data=X_test,\n",
    "                     test_labels=y_test,\n",
    "                     predictions=None):\n",
    "    ''' \n",
    "    Plots training data, test data & compares predictions\n",
    "    '''\n",
    "    plt.figure(figsize=(10,7 ))\n",
    "    # Plot training data in blue\n",
    "    plt.scatter(train_data, train_labels, c='b', s=4, label=\"Training data\")\n",
    "    \n",
    "    # Plot test data in green\n",
    "    plt.scatter(test_data, test_labels, c='g', s=4, label=\"Testing data\")\n",
    "    \n",
    "    # Are there predictions?\n",
    "    if predictions is not None:\n",
    "        plt.scatter(test_data, predictions, c='r', s=4, label='Predictions')\n",
    "    \n",
    "    # Show the legend\n",
    "    plt.legend(prop={'size':14})\n",
    "    "
   ]
  },
  {
   "cell_type": "code",
   "execution_count": 443,
   "metadata": {},
   "outputs": [
    {
     "data": {
      "image/png": "[encoded data removed]",
      "text/plain": [
       "<Figure size 1000x700 with 1 Axes>"
      ]
     },
     "metadata": {},
     "output_type": "display_data"
    }
   ],
   "source": [
    "plot_predictions(X_train)"
   ]
  },
  {
   "cell_type": "markdown",
   "metadata": {},
   "source": [
    "## 2. Build Model\n",
    "\n",
    "What our model does:\n",
    "* Start with random values (weight & bias)\n",
    "* Look at training data & adjust the random values to better represent (or get closer to) the ideal values (the weights & bias values we used tp creat\n",
    "the data)\n",
    "\n",
    "How does it do so? Through 2 main algorithms:\n",
    "1. Gradient descent\n",
    "2. Backpropagation "
   ]
  },
  {
   "cell_type": "code",
   "execution_count": 444,
   "metadata": {},
   "outputs": [],
   "source": [
    "from torch import nn\n",
    "# Create Linear Regression Model Class\n",
    "class LinearRegressionModel(nn.Module): # Almost everything in Pytorch inherits from nn.Module\n",
    "    def __init__(self):\n",
    "        super().__init__()\n",
    "        self.weights = nn.Parameter(torch.rand(1,\n",
    "                                               requires_grad=True,\n",
    "                                               dtype=torch.float64))\n",
    "        self.bias = nn.Parameter(torch.rand(1,\n",
    "                                            requires_grad=True,\n",
    "                                            dtype=torch.float64) )\n",
    "        # Forward method to define the computation in the model\n",
    "    def forward(self, x: torch.Tensor ) -> torch.Tensor: # <- x is the input data\n",
    "        return self.weights * x + self.bias # this is the linear regression formula"
   ]
  },
  {
   "cell_type": "markdown",
   "metadata": {},
   "source": [
    "### Pytorch model building essentials\n",
    "\n",
    "* torch.nn - contain all of  the buildings for computational graphs (aka neural networks)\n",
    "* torch.nn.Parameter - what parameters should our model try and learn, often a Pytorch layer from torch.nn will set these for us \n",
    "* torch.nn.Module - The base class for all neural network modules, if you subclass it, you should override forward()\n",
    "* torch.optim - this where the optimizers in Pytorch live, they will help with gradient descent\n",
    "* def forward() - All nn.Module subclasses require you to overwrite forward(), this method defines what happens in the forward computation"
   ]
  },
  {
   "cell_type": "markdown",
   "metadata": {},
   "source": [
    "### Checking the Contents of our Pytorch model\n",
    "\n",
    "We've created a model, what's inside...\n",
    "\n",
    "So we can check our model parameters or what's inside our model using `.parameters()`"
   ]
  },
  {
   "cell_type": "code",
   "execution_count": 445,
   "metadata": {},
   "outputs": [
    {
     "data": {
      "text/plain": [
       "[Parameter containing:\n",
       " tensor([0.0582], dtype=torch.float64, requires_grad=True),\n",
       " Parameter containing:\n",
       " tensor([0.0629], dtype=torch.float64, requires_grad=True)]"
      ]
     },
     "execution_count": 445,
     "metadata": {},
     "output_type": "execute_result"
    }
   ],
   "source": [
    "# Create a random seed \n",
    "torch.manual_seed(42)\n",
    "\n",
    "# Create an instance of the model (this is a subclass of nn.Module)\n",
    "model_0 = LinearRegressionModel()\n",
    "# Check out parameters\n",
    "\n",
    "list( model_0.parameters() )\n"
   ]
  },
  {
   "cell_type": "code",
   "execution_count": 446,
   "metadata": {},
   "outputs": [
    {
     "data": {
      "text/plain": [
       "OrderedDict([('weights', tensor([0.0582], dtype=torch.float64)),\n",
       "             ('bias', tensor([0.0629], dtype=torch.float64))])"
      ]
     },
     "execution_count": 446,
     "metadata": {},
     "output_type": "execute_result"
    }
   ],
   "source": [
    "# List named parameters\n",
    "model_0.state_dict()"
   ]
  },
  {
   "cell_type": "markdown",
   "metadata": {},
   "source": [
    "### Making prediction using `torch.inference_mode()`\n",
    "\n",
    "To check model's predictive power, let's see how well it predicts `y_test`based on `X_test`\n",
    "\n",
    "When we pass data through model, it's going to run through the `forward()` method "
   ]
  },
  {
   "cell_type": "code",
   "execution_count": 447,
   "metadata": {},
   "outputs": [
    {
     "data": {
      "text/plain": [
       "(tensor([[0.8000],\n",
       "         [0.8200],\n",
       "         [0.8400],\n",
       "         [0.8600],\n",
       "         [0.8800],\n",
       "         [0.9000],\n",
       "         [0.9200],\n",
       "         [0.9400],\n",
       "         [0.9600],\n",
       "         [0.9800]]),\n",
       " tensor([[0.8600],\n",
       "         [0.8740],\n",
       "         [0.8880],\n",
       "         [0.9020],\n",
       "         [0.9160],\n",
       "         [0.9300],\n",
       "         [0.9440],\n",
       "         [0.9580],\n",
       "         [0.9720],\n",
       "         [0.9860]]))"
      ]
     },
     "execution_count": 447,
     "metadata": {},
     "output_type": "execute_result"
    }
   ],
   "source": [
    "X_test, y_test"
   ]
  },
  {
   "cell_type": "code",
   "execution_count": 448,
   "metadata": {},
   "outputs": [
    {
     "data": {
      "text/plain": [
       "tensor([[0.1094],\n",
       "        [0.1106],\n",
       "        [0.1118],\n",
       "        [0.1129],\n",
       "        [0.1141],\n",
       "        [0.1152],\n",
       "        [0.1164],\n",
       "        [0.1176],\n",
       "        [0.1187],\n",
       "        [0.1199]], dtype=torch.float64)"
      ]
     },
     "execution_count": 448,
     "metadata": {},
     "output_type": "execute_result"
    }
   ],
   "source": [
    "# Make predictions with model\n",
    "with torch.inference_mode(): \n",
    "    y_preds = model_0(X_test)\n",
    "\n",
    "# with torch.no_grad():\n",
    "#     y_preds = model_0(X_test)\n",
    "\n",
    "y_preds"
   ]
  },
  {
   "cell_type": "code",
   "execution_count": 449,
   "metadata": {},
   "outputs": [
    {
     "data": {
      "text/plain": [
       "tensor([[0.8600],\n",
       "        [0.8740],\n",
       "        [0.8880],\n",
       "        [0.9020],\n",
       "        [0.9160],\n",
       "        [0.9300],\n",
       "        [0.9440],\n",
       "        [0.9580],\n",
       "        [0.9720],\n",
       "        [0.9860]])"
      ]
     },
     "execution_count": 449,
     "metadata": {},
     "output_type": "execute_result"
    }
   ],
   "source": [
    "y_test"
   ]
  },
  {
   "cell_type": "code",
   "execution_count": 450,
   "metadata": {},
   "outputs": [
    {
     "data": {
      "image/png": "[encoded data removed]",
      "text/plain": [
       "<Figure size 1000x700 with 1 Axes>"
      ]
     },
     "metadata": {},
     "output_type": "display_data"
    }
   ],
   "source": [
    "plot_predictions(predictions=y_preds)"
   ]
  },
  {
   "cell_type": "markdown",
   "metadata": {},
   "source": [
    "## 3. Train Model\n",
    "\n",
    "The whole idea of training is for a model to move from some *unknown* parameters to some *known* parameters.\n",
    "\n",
    "Or in another words, from a poor representation of the data to a better representation of the data\n",
    "\n",
    "One way to measure how poor or how wrong your models predictions are is to use a loss function \n",
    "\n",
    "* Note: loss function = cost function = criterion \n",
    "\n",
    "Things we need to train:\n",
    "* **Loss function:** A function to measure how wrong your model's predictions are to the ideal outputs, lower is better\n",
    "* **Optimizer:** Takes into account the loss of a model and adjusts the model's parameters (weight, bias) to improve the loss function\n",
    "\n",
    "And specifically for Pytorch, we need:\n",
    "* A training loop\n",
    "* A testing loop\n"
   ]
  },
  {
   "cell_type": "code",
   "execution_count": 451,
   "metadata": {},
   "outputs": [
    {
     "data": {
      "text/plain": [
       "OrderedDict([('weights', tensor([0.0582], dtype=torch.float64)),\n",
       "             ('bias', tensor([0.0629], dtype=torch.float64))])"
      ]
     },
     "execution_count": 451,
     "metadata": {},
     "output_type": "execute_result"
    }
   ],
   "source": [
    "model_0.state_dict()"
   ]
  },
  {
   "cell_type": "code",
   "execution_count": 452,
   "metadata": {},
   "outputs": [],
   "source": [
    "# Set up a loss function\n",
    "loss_fn = nn.L1Loss()\n",
    "\n",
    "# Set up an optimizer (stochastic gradient descent)\n",
    "optimizer = torch.optim.SGD(params=model_0.parameters(),\n",
    "                            lr=0.01)"
   ]
  },
  {
   "cell_type": "markdown",
   "metadata": {},
   "source": [
    "### Building a Training Loop (and a Testing loop) in Pytorch \n",
    "\n",
    "A couple of things we need in a training loop:\n",
    "0. Loop through the data\n",
    "1. Forward pass (this involves data moving through our model's `forward()` functions) aka forward propagation to make predictions on data\n",
    "2. Calculate the loss (compare forward pass predictions to ground truth labels)\n",
    "3. Optimizer zero grad\n",
    "4. Loss backward - move backwards through the network to calculate the gradient of each of the parameters of our model with respect to the loss (** **)\n",
    "5. Optimizer step - use the optimizer to adjust our model's parameters to try and improve the loss (**gradient descent**)\n",
    "\n"
   ]
  },
  {
   "cell_type": "code",
   "execution_count": 453,
   "metadata": {},
   "outputs": [
    {
     "name": "stdout",
     "output_type": "stream",
     "text": [
      "Loss: 0.4874095809619118\n",
      "Epoch: 0 | Loss: 0.4874095809619118 | Test loss: 0.7948613474183751\n",
      "OrderedDict([('weights', tensor([0.0621], dtype=torch.float64)), ('bias', tensor([0.0729], dtype=torch.float64))])\n",
      "Loss: 0.47588858102554726\n",
      "Loss: 0.46436758108918263\n",
      "Loss: 0.4528465811528181\n",
      "Loss: 0.4413255812164535\n",
      "Loss: 0.42980458128008897\n",
      "Loss: 0.41828358134372434\n",
      "Loss: 0.40676258140735977\n",
      "Loss: 0.3952415814709952\n",
      "Loss: 0.3837205815346306\n",
      "Loss: 0.372199581598266\n",
      "Epoch: 10 | Loss: 0.372199581598266 | Test loss: 0.6601513477725385\n",
      "OrderedDict([('weights', tensor([0.1011], dtype=torch.float64)), ('bias', tensor([0.1729], dtype=torch.float64))])\n",
      "Loss: 0.36067858166190137\n",
      "Loss: 0.34915758172553674\n",
      "Loss: 0.3376365817891721\n",
      "Loss: 0.3261155818528076\n",
      "Loss: 0.31459458191644296\n",
      "Loss: 0.3030735819800784\n",
      "Loss: 0.29155258204371376\n",
      "Loss: 0.28003158210734924\n",
      "Loss: 0.2685105821709846\n",
      "Loss: 0.25698958223462\n",
      "Epoch: 20 | Loss: 0.25698958223462 | Test loss: 0.5254413481267017\n",
      "OrderedDict([('weights', tensor([0.1401], dtype=torch.float64)), ('bias', tensor([0.2729], dtype=torch.float64))])\n",
      "Loss: 0.2454685822982554\n",
      "Loss: 0.23394758236189078\n",
      "Loss: 0.22242658242552618\n",
      "Loss: 0.21105109026434404\n",
      "Loss: 0.20058125265513013\n",
      "Loss: 0.19096804271842846\n",
      "Loss: 0.18180220966017252\n",
      "Loss: 0.1734269411523745\n",
      "Loss: 0.165782467194376\n",
      "Loss: 0.15880869781811874\n",
      "Epoch: 30 | Loss: 0.15880869781811874 | Test loss: 0.40255174847879455\n",
      "OrderedDict([('weights', tensor([0.1787], dtype=torch.float64)), ('bias', tensor([0.3614], dtype=torch.float64))])\n",
      "Loss: 0.15250244787818903\n",
      "Loss: 0.14651137301827802\n",
      "Loss: 0.14107321274076381\n",
      "Loss: 0.1361627727979965\n",
      "Loss: 0.1315448370330107\n",
      "Loss: 0.12735941577773327\n",
      "Loss: 0.12366916582837115\n",
      "Loss: 0.12013756922879319\n",
      "Loss: 0.11699031927896167\n",
      "Loss: 0.11402923718877174\n",
      "Epoch: 40 | Loss: 0.11402923718877174 | Test loss: 0.3173483488253091\n",
      "OrderedDict([('weights', tensor([0.2138], dtype=torch.float64)), ('bias', tensor([0.4154], dtype=torch.float64))])\n",
      "Loss: 0.11137947723690667\n",
      "Loss: 0.10890415965151892\n",
      "Loss: 0.10670571969619735\n",
      "Loss: 0.1046298366113723\n",
      "Loss: 0.10283582665133766\n",
      "Loss: 0.10107132823401851\n",
      "Loss: 0.09963407827245237\n",
      "Loss: 0.09819682831088619\n",
      "Loss: 0.09682155421660892\n",
      "Loss: 0.09569255424819194\n",
      "Epoch: 50 | Loss: 0.09569255424819194 | Test loss: 0.26267344914149243\n",
      "OrderedDict([('weights', tensor([0.2432], dtype=torch.float64)), ('bias', tensor([0.4439], dtype=torch.float64))])\n",
      "Loss: 0.09456355427977496\n",
      "Loss: 0.09346389485413517\n",
      "Loss: 0.09259373488202984\n",
      "Loss: 0.0917235749099245\n",
      "Loss: 0.09085341493781919\n",
      "Loss: 0.09003118019193604\n",
      "Loss: 0.08936949021881133\n",
      "Loss: 0.08870780024568661\n",
      "Loss: 0.0880461102725619\n",
      "Loss: 0.08738442029943719\n",
      "Epoch: 60 | Loss: 0.08738442029943719 | Test loss: 0.22768154940568558\n",
      "OrderedDict([('weights', tensor([0.2679], dtype=torch.float64)), ('bias', tensor([0.4569], dtype=torch.float64))])\n",
      "Loss: 0.08678997984733622\n",
      "Loss: 0.08628536986877645\n",
      "Loss: 0.08578075989021669\n",
      "Loss: 0.08527614991165694\n",
      "Loss: 0.08477153993309716\n",
      "Loss: 0.0842669299545374\n",
      "Loss: 0.08379710418495431\n",
      "Loss: 0.08339710420358076\n",
      "Loss: 0.08299710422220721\n",
      "Loss: 0.08259710424083366\n",
      "Epoch: 70 | Loss: 0.08259710424083366 | Test loss: 0.20586694963124902\n",
      "OrderedDict([('weights', tensor([0.2890], dtype=torch.float64)), ('bias', tensor([0.4599], dtype=torch.float64))])\n",
      "Loss: 0.08219710425946014\n",
      "Loss: 0.08179710427808659\n",
      "Loss: 0.08139710429671304\n",
      "Loss: 0.08099710431533949\n",
      "Loss: 0.08059710433396594\n",
      "Loss: 0.0801971043525924\n",
      "Loss: 0.07981290030003177\n",
      "Loss: 0.07946390031786847\n",
      "Loss: 0.07911490033570515\n",
      "Loss: 0.07876590035354183\n",
      "Epoch: 80 | Loss: 0.07876590035354183 | Test loss: 0.19077894987319172\n",
      "OrderedDict([('weights', tensor([0.3082], dtype=torch.float64)), ('bias', tensor([0.4579], dtype=torch.float64))])\n",
      "Loss: 0.07841690037137852\n",
      "Loss: 0.0780679003892152\n",
      "Loss: 0.07771890040705189\n",
      "Loss: 0.07736990042488859\n",
      "Loss: 0.07702090044272526\n",
      "Loss: 0.07667190046056196\n",
      "Loss: 0.07632290047839865\n",
      "Loss: 0.07597390049623534\n",
      "Loss: 0.07562490051407202\n",
      "Loss: 0.0752759005319087\n",
      "Epoch: 90 | Loss: 0.0752759005319087 | Test loss: 0.17975895014249282\n",
      "OrderedDict([('weights', tensor([0.3262], dtype=torch.float64)), ('bias', tensor([0.4529], dtype=torch.float64))])\n",
      "Loss: 0.07492690054974539\n",
      "Loss: 0.07457790056758208\n",
      "Loss: 0.07422890058541876\n",
      "Loss: 0.07387990060325544\n",
      "Loss: 0.07353090062109212\n",
      "Loss: 0.07318190063892882\n",
      "Loss: 0.0728329006567655\n",
      "Loss: 0.07248390067460218\n",
      "Loss: 0.07213490069243887\n",
      "Loss: 0.07178590071027556\n",
      "Epoch: 100 | Loss: 0.07178590071027556 | Test loss: 0.1687389504117939\n",
      "OrderedDict([('weights', tensor([0.3442], dtype=torch.float64)), ('bias', tensor([0.4479], dtype=torch.float64))])\n",
      "Loss: 0.07143690072811225\n",
      "Loss: 0.07108790074594895\n",
      "Loss: 0.07073890076378561\n",
      "Loss: 0.0703899007816223\n",
      "Loss: 0.07004090079945899\n",
      "Loss: 0.06969190081729568\n",
      "Loss: 0.06934371394269608\n",
      "Loss: 0.06900670085074842\n",
      "Loss: 0.06865770086858511\n",
      "Loss: 0.06831850398759892\n",
      "Epoch: 110 | Loss: 0.06831850398759892 | Test loss: 0.15909275067342987\n",
      "OrderedDict([('weights', tensor([0.3618], dtype=torch.float64)), ('bias', tensor([0.4419], dtype=torch.float64))])\n",
      "Loss: 0.06797250090203782\n",
      "Loss: 0.06762949401688574\n",
      "Loss: 0.06728730093549057\n",
      "Loss: 0.06694048404617255\n",
      "Loss: 0.0666021009689433\n",
      "Loss: 0.06625310098677997\n",
      "Loss: 0.06591527409107541\n",
      "Loss: 0.06556790102023272\n",
      "Loss: 0.06522626412036223\n",
      "Loss: 0.06488270105368545\n",
      "Epoch: 120 | Loss: 0.06488270105368545 | Test loss: 0.1508203509274007\n",
      "OrderedDict([('weights', tensor([0.3790], dtype=torch.float64)), ('bias', tensor([0.4349], dtype=torch.float64))])\n",
      "Loss: 0.06453725414964903\n",
      "Loss: 0.06419750108713818\n",
      "Loss: 0.06384850110497486\n",
      "Loss: 0.06351204419455189\n",
      "Loss: 0.0631633011384276\n",
      "Loss: 0.0628230342238387\n",
      "Loss: 0.06247810117188032\n",
      "Loss: 0.06213402425312552\n",
      "Loss: 0.06179290120533305\n",
      "Loss: 0.06144501428241232\n",
      "Epoch: 130 | Loss: 0.06144501428241232 | Test loss: 0.14323485117753898\n",
      "OrderedDict([('weights', tensor([0.3959], dtype=torch.float64)), ('bias', tensor([0.4274], dtype=torch.float64))])\n",
      "Loss: 0.06110770123878578\n",
      "Loss: 0.06075870125662246\n",
      "Loss: 0.06041980432731518\n",
      "Loss: 0.0600735012900752\n",
      "Loss: 0.059730794356602\n",
      "Loss: 0.059388301323527924\n",
      "Loss: 0.05904178438588881\n",
      "Loss: 0.05870310135698067\n",
      "Loss: 0.058354101374817356\n",
      "Loss: 0.05801657443079167\n",
      "Epoch: 140 | Loss: 0.05801657443079167 | Test loss: 0.13496245143150984\n",
      "OrderedDict([('weights', tensor([0.4131], dtype=torch.float64)), ('bias', tensor([0.4204], dtype=torch.float64))])\n",
      "Loss: 0.05766890140827009\n",
      "Loss: 0.05732756446007847\n",
      "Loss: 0.05698370144172282\n",
      "Loss: 0.0566385544893653\n",
      "Loss: 0.056298501475175546\n",
      "Loss: 0.05594954451865212\n",
      "Loss: 0.055613301508628275\n",
      "Loss: 0.055264301526464964\n",
      "Loss: 0.054924334563554965\n",
      "Loss: 0.0545791015599177\n",
      "Epoch: 150 | Loss: 0.0545791015599177 | Test loss: 0.1266900516854807\n",
      "OrderedDict([('weights', tensor([0.4302], dtype=torch.float64)), ('bias', tensor([0.4134], dtype=torch.float64))])\n",
      "Loss: 0.05423532459284177\n",
      "Loss: 0.053893901593370416\n",
      "Loss: 0.053546314622128596\n",
      "Loss: 0.05320870162682316\n",
      "Loss: 0.05285970164465983\n",
      "Loss: 0.05252110466703145\n",
      "Loss: 0.05217450167811257\n",
      "Loss: 0.05183209469631826\n",
      "Loss: 0.051489301711565315\n",
      "Loss: 0.05114308472560508\n",
      "Epoch: 160 | Loss: 0.05114308472560508 | Test loss: 0.119104551935619\n",
      "OrderedDict([('weights', tensor([0.4472], dtype=torch.float64)), ('bias', tensor([0.4059], dtype=torch.float64))])\n",
      "Loss: 0.05080410174501804\n",
      "Loss: 0.050455101762854726\n",
      "Loss: 0.050117874770507956\n",
      "Loss: 0.04976990179630744\n",
      "Loss: 0.04942886479979475\n",
      "Loss: 0.04908470182976019\n",
      "Loss: 0.04873985482908156\n",
      "Loss: 0.048399501863212915\n",
      "Loss: 0.04805084485836837\n",
      "Loss: 0.047714301896665645\n",
      "Epoch: 170 | Loss: 0.047714301896665645 | Test loss: 0.11083215218958982\n",
      "OrderedDict([('weights', tensor([0.4643], dtype=torch.float64)), ('bias', tensor([0.3989], dtype=torch.float64))])\n",
      "Loss: 0.04736530191450233\n",
      "Loss: 0.04702563490327123\n",
      "Loss: 0.04668010194795506\n",
      "Loss: 0.04633662493255805\n",
      "Loss: 0.0459949019814078\n",
      "Loss: 0.045647614961844864\n",
      "Loss: 0.04530970201486054\n",
      "Loss: 0.04496070203269722\n",
      "Loss: 0.04462240500674771\n",
      "Loss: 0.04427550206614994\n",
      "Epoch: 180 | Loss: 0.04427550206614994 | Test loss: 0.10255975244356068\n",
      "OrderedDict([('weights', tensor([0.4815], dtype=torch.float64)), ('bias', tensor([0.3919], dtype=torch.float64))])\n",
      "Loss: 0.04393339503603453\n",
      "Loss: 0.043590302099602685\n",
      "Loss: 0.04324438506532134\n",
      "Loss: 0.042905102133055414\n",
      "Loss: 0.042556102150892096\n",
      "Loss: 0.04221917511022419\n",
      "Loss: 0.041870902184344826\n",
      "Loss: 0.04153016513951101\n",
      "Loss: 0.04118570221779756\n",
      "Loss: 0.04084115516879783\n",
      "Epoch: 190 | Loss: 0.04084115516879783 | Test loss: 0.09497425269369897\n",
      "OrderedDict([('weights', tensor([0.4984], dtype=torch.float64)), ('bias', tensor([0.3844], dtype=torch.float64))])\n",
      "Loss: 0.04050050225125029\n",
      "Loss: 0.04015214519808463\n",
      "Loss: 0.03981530228470302\n",
      "Loss: 0.03946630230253971\n",
      "Loss: 0.03912693524298748\n",
      "Loss: 0.03878110233599244\n",
      "Loss: 0.038437925272274305\n",
      "Loss: 0.03809590236944517\n",
      "Loss: 0.03774891530156112\n",
      "Loss: 0.0374107024028979\n",
      "Epoch: 200 | Loss: 0.0374107024028979 | Test loss: 0.08670185294766981\n",
      "OrderedDict([('weights', tensor([0.5156], dtype=torch.float64)), ('bias', tensor([0.3774], dtype=torch.float64))])\n",
      "Loss: 0.03706170242073459\n",
      "Loss: 0.03672370534646396\n",
      "Loss: 0.03637650245418732\n",
      "Loss: 0.03603469537575079\n",
      "Loss: 0.03569130248764006\n",
      "Loss: 0.035345685405037616\n",
      "Loss: 0.035006102521092784\n",
      "Loss: 0.034657102538929466\n",
      "Loss: 0.034320475449940456\n",
      "Loss: 0.033971902572382195\n",
      "Epoch: 210 | Loss: 0.033971902572382195 | Test loss: 0.0784294532016407\n",
      "OrderedDict([('weights', tensor([0.5328], dtype=torch.float64)), ('bias', tensor([0.3704], dtype=torch.float64))])\n",
      "Loss: 0.03363146547922726\n",
      "Loss: 0.033286702605834925\n",
      "Loss: 0.03294245550851409\n",
      "Loss: 0.03260150263928766\n",
      "Loss: 0.03225344553780091\n",
      "Loss: 0.03191630267274039\n",
      "Loss: 0.03156730269057708\n",
      "Loss: 0.031228235582703757\n",
      "Loss: 0.030882102724029803\n",
      "Loss: 0.030539225611990573\n",
      "Epoch: 220 | Loss: 0.030539225611990573 | Test loss: 0.07084395345177898\n",
      "OrderedDict([('weights', tensor([0.5497], dtype=torch.float64)), ('bias', tensor([0.3629], dtype=torch.float64))])\n",
      "Loss: 0.030196902757482554\n",
      "Loss: 0.029850215641277388\n",
      "Loss: 0.029511702790935273\n",
      "Loss: 0.029162702808771958\n",
      "Loss: 0.02882500568618024\n",
      "Loss: 0.028477502842224695\n",
      "Loss: 0.028135995715467054\n",
      "Loss: 0.02779230287567743\n",
      "Loss: 0.027446985744753866\n",
      "Loss: 0.027107102909130154\n",
      "Epoch: 230 | Loss: 0.027107102909130154 | Test loss: 0.06257155370574981\n",
      "OrderedDict([('weights', tensor([0.5669], dtype=torch.float64)), ('bias', tensor([0.3559], dtype=torch.float64))])\n",
      "Loss: 0.026758102926966842\n",
      "Loss: 0.02642177578965672\n",
      "Loss: 0.026072902960419576\n",
      "Loss: 0.02573276581894355\n",
      "Loss: 0.02538770299387231\n",
      "Loss: 0.02504375584823034\n",
      "Loss: 0.02470250302732504\n",
      "Loss: 0.02435474587751716\n",
      "Loss: 0.02401730306077777\n",
      "Loss: 0.023668303078614457\n",
      "Epoch: 240 | Loss: 0.023668303078614457 | Test loss: 0.05429915395972066\n",
      "OrderedDict([('weights', tensor([0.5840], dtype=torch.float64)), ('bias', tensor([0.3489], dtype=torch.float64))])\n",
      "Loss: 0.02332953592242002\n",
      "Loss: 0.02298310311206718\n",
      "Loss: 0.02264052595170683\n",
      "Loss: 0.022297903145519916\n",
      "Loss: 0.021951515980993645\n",
      "Loss: 0.021612703178972646\n",
      "Loss: 0.021263703196809328\n",
      "Loss: 0.020926306025896495\n",
      "Loss: 0.020578503230262064\n",
      "Loss: 0.020237296055183308\n",
      "Epoch: 250 | Loss: 0.020237296055183308 | Test loss: 0.04671365420985896\n",
      "OrderedDict([('weights', tensor([0.6010], dtype=torch.float64)), ('bias', tensor([0.3414], dtype=torch.float64))])\n",
      "Loss: 0.0198933032637148\n",
      "Loss: 0.01954828608447013\n",
      "Loss: 0.019208103297167534\n",
      "Loss: 0.01885927611375694\n",
      "Loss: 0.01852290333062026\n",
      "Loss: 0.018173903348456942\n",
      "Loss: 0.017834066158659814\n",
      "Loss: 0.017488703381909675\n",
      "Loss: 0.017145056187946622\n",
      "Loss: 0.0168035034153624\n",
      "Epoch: 260 | Loss: 0.0168035034153624 | Test loss: 0.0384412544638298\n",
      "OrderedDict([('weights', tensor([0.6181], dtype=torch.float64)), ('bias', tensor([0.3344], dtype=torch.float64))])\n",
      "Loss: 0.016456046217233435\n",
      "Loss: 0.016118303448815135\n",
      "Loss: 0.015769303466651827\n",
      "Loss: 0.015430836262136283\n",
      "Loss: 0.015084103500104567\n",
      "Loss: 0.014741826291423097\n",
      "Loss: 0.01439890353355729\n",
      "Loss: 0.014052816320709904\n",
      "Loss: 0.013713703567010021\n",
      "Loss: 0.013364703584846701\n",
      "Epoch: 270 | Loss: 0.013364703584846701 | Test loss: 0.03016885471780062\n",
      "OrderedDict([('weights', tensor([0.6353], dtype=torch.float64)), ('bias', tensor([0.3274], dtype=torch.float64))])\n",
      "Loss: 0.01302760636561276\n",
      "Loss: 0.01267950361829943\n",
      "Loss: 0.01233859639489958\n",
      "Loss: 0.011994303651752187\n",
      "Loss: 0.011649586424186396\n",
      "Loss: 0.011309103685204904\n",
      "Loss: 0.01096057645347321\n",
      "Loss: 0.010623903718657632\n",
      "Loss: 0.010274903736494319\n",
      "Loss: 0.009935366498376064\n",
      "Epoch: 280 | Loss: 0.009935366498376064 | Test loss: 0.02258335496793894\n",
      "OrderedDict([('weights', tensor([0.6523], dtype=torch.float64)), ('bias', tensor([0.3199], dtype=torch.float64))])\n",
      "Loss: 0.009589703769947062\n",
      "Loss: 0.009246356527662872\n",
      "Loss: 0.008904503803399778\n",
      "Loss: 0.008557346556949692\n",
      "Loss: 0.008219303836852512\n",
      "Loss: 0.007870303854689195\n",
      "Loss: 0.007532136601852544\n",
      "Loss: 0.007185103888141924\n",
      "Loss: 0.006843126631139354\n",
      "Loss: 0.006499903921594666\n",
      "Epoch: 290 | Loss: 0.006499903921594666 | Test loss: 0.014310955221909782\n",
      "OrderedDict([('weights', tensor([0.6694], dtype=torch.float64)), ('bias', tensor([0.3129], dtype=torch.float64))])\n",
      "Loss: 0.006154116660426173\n",
      "Loss: 0.0058147039550473945\n",
      "Loss: 0.005465703972884081\n",
      "Loss: 0.005128906705329038\n",
      "Loss: 0.004780504006336801\n",
      "Loss: 0.004439896734615839\n",
      "Loss: 0.004095304039789541\n",
      "Loss: 0.0037508867639026527\n",
      "Loss: 0.0034101040732422636\n"
     ]
    }
   ],
   "source": [
    "torch.manual_seed(42)\n",
    "# An epoch is one loop through the data ... (this is a hyperparameter bc we've set it by ourselves)\n",
    "epochs = 300\n",
    "\n",
    "# Tracking different values\n",
    "epoch_count = []\n",
    "loss_values = []\n",
    "test_loss_values = []\n",
    "\n",
    "# 0. Loop through the data \n",
    "for epoch in range(epochs):\n",
    "    # set the model to training mode:\n",
    "    model_0.train() # sets all parameters that require gradients to require gradients\n",
    "    \n",
    "    # 1. Forward pass \n",
    "    y_preds = model_0(X_train)\n",
    "    \n",
    "    # 2. Calculate the loss\n",
    "    loss = loss_fn(y_preds, y_train) # Calculate predictions on training data set n the ideal training values \n",
    "    print(f\"Loss: {loss}\")\n",
    "    \n",
    "    # 3. Optimizer zero grad\n",
    "    optimizer.zero_grad()\n",
    "    \n",
    "    # 4. Perform backpropagation on the loss with respect to the parameters of the model\n",
    "    loss.backward()\n",
    "    \n",
    "    # 5. Step the optimizer (perform gradient descent)\n",
    "    optimizer.step() # by default hw the optimizer changes will accumulate through the loop so ... we have to zero  them above in step 3 for the next iteration of the loop\n",
    "    \n",
    "    ### Testing \n",
    "    model_0.eval() # turns off different settings in the model not needed for evaluation/testing (dropout/batch norm layers)\n",
    "    with torch.inference_mode(): # turns off gradient tracking & a couple more things behind the scenes\n",
    "        # 1. Do the forward pass\n",
    "        test_pred = model_0(X_test)\n",
    "        # 2. Calculate the loss \n",
    "        test_loss = loss_fn(test_pred, y_test)\n",
    "        \n",
    "    # Print out results\n",
    "    if epoch % 10 == 0:\n",
    "        epoch_count.append(epoch)\n",
    "        loss_values.append(loss)\n",
    "        test_loss_values.append(test_loss)\n",
    "\n",
    "        print(f\"Epoch: {epoch} | Loss: {loss} | Test loss: {test_loss}\" )\n",
    "        # Print out model state dict\n",
    "        print( model_0.state_dict())\n",
    "    "
   ]
  },
  {
   "cell_type": "code",
   "execution_count": 457,
   "metadata": {},
   "outputs": [
    {
     "data": {
      "text/plain": [
       "([tensor(0.4874, dtype=torch.float64, grad_fn=<MeanBackward0>),\n",
       "  tensor(0.3722, dtype=torch.float64, grad_fn=<MeanBackward0>),\n",
       "  tensor(0.2570, dtype=torch.float64, grad_fn=<MeanBackward0>),\n",
       "  tensor(0.1588, dtype=torch.float64, grad_fn=<MeanBackward0>),\n",
       "  tensor(0.1140, dtype=torch.float64, grad_fn=<MeanBackward0>),\n",
       "  tensor(0.0957, dtype=torch.float64, grad_fn=<MeanBackward0>),\n",
       "  tensor(0.0874, dtype=torch.float64, grad_fn=<MeanBackward0>),\n",
       "  tensor(0.0826, dtype=torch.float64, grad_fn=<MeanBackward0>),\n",
       "  tensor(0.0788, dtype=torch.float64, grad_fn=<MeanBackward0>),\n",
       "  tensor(0.0753, dtype=torch.float64, grad_fn=<MeanBackward0>),\n",
       "  tensor(0.0718, dtype=torch.float64, grad_fn=<MeanBackward0>),\n",
       "  tensor(0.0683, dtype=torch.float64, grad_fn=<MeanBackward0>),\n",
       "  tensor(0.0649, dtype=torch.float64, grad_fn=<MeanBackward0>),\n",
       "  tensor(0.0614, dtype=torch.float64, grad_fn=<MeanBackward0>),\n",
       "  tensor(0.0580, dtype=torch.float64, grad_fn=<MeanBackward0>),\n",
       "  tensor(0.0546, dtype=torch.float64, grad_fn=<MeanBackward0>),\n",
       "  tensor(0.0511, dtype=torch.float64, grad_fn=<MeanBackward0>),\n",
       "  tensor(0.0477, dtype=torch.float64, grad_fn=<MeanBackward0>),\n",
       "  tensor(0.0443, dtype=torch.float64, grad_fn=<MeanBackward0>),\n",
       "  tensor(0.0408, dtype=torch.float64, grad_fn=<MeanBackward0>),\n",
       "  tensor(0.0374, dtype=torch.float64, grad_fn=<MeanBackward0>),\n",
       "  tensor(0.0340, dtype=torch.float64, grad_fn=<MeanBackward0>),\n",
       "  tensor(0.0305, dtype=torch.float64, grad_fn=<MeanBackward0>),\n",
       "  tensor(0.0271, dtype=torch.float64, grad_fn=<MeanBackward0>),\n",
       "  tensor(0.0237, dtype=torch.float64, grad_fn=<MeanBackward0>),\n",
       "  tensor(0.0202, dtype=torch.float64, grad_fn=<MeanBackward0>),\n",
       "  tensor(0.0168, dtype=torch.float64, grad_fn=<MeanBackward0>),\n",
       "  tensor(0.0134, dtype=torch.float64, grad_fn=<MeanBackward0>),\n",
       "  tensor(0.0099, dtype=torch.float64, grad_fn=<MeanBackward0>),\n",
       "  tensor(0.0065, dtype=torch.float64, grad_fn=<MeanBackward0>)],\n",
       " [tensor(0.7949, dtype=torch.float64),\n",
       "  tensor(0.6602, dtype=torch.float64),\n",
       "  tensor(0.5254, dtype=torch.float64),\n",
       "  tensor(0.4026, dtype=torch.float64),\n",
       "  tensor(0.3173, dtype=torch.float64),\n",
       "  tensor(0.2627, dtype=torch.float64),\n",
       "  tensor(0.2277, dtype=torch.float64),\n",
       "  tensor(0.2059, dtype=torch.float64),\n",
       "  tensor(0.1908, dtype=torch.float64),\n",
       "  tensor(0.1798, dtype=torch.float64),\n",
       "  tensor(0.1687, dtype=torch.float64),\n",
       "  tensor(0.1591, dtype=torch.float64),\n",
       "  tensor(0.1508, dtype=torch.float64),\n",
       "  tensor(0.1432, dtype=torch.float64),\n",
       "  tensor(0.1350, dtype=torch.float64),\n",
       "  tensor(0.1267, dtype=torch.float64),\n",
       "  tensor(0.1191, dtype=torch.float64),\n",
       "  tensor(0.1108, dtype=torch.float64),\n",
       "  tensor(0.1026, dtype=torch.float64),\n",
       "  tensor(0.0950, dtype=torch.float64),\n",
       "  tensor(0.0867, dtype=torch.float64),\n",
       "  tensor(0.0784, dtype=torch.float64),\n",
       "  tensor(0.0708, dtype=torch.float64),\n",
       "  tensor(0.0626, dtype=torch.float64),\n",
       "  tensor(0.0543, dtype=torch.float64),\n",
       "  tensor(0.0467, dtype=torch.float64),\n",
       "  tensor(0.0384, dtype=torch.float64),\n",
       "  tensor(0.0302, dtype=torch.float64),\n",
       "  tensor(0.0226, dtype=torch.float64),\n",
       "  tensor(0.0143, dtype=torch.float64)])"
      ]
     },
     "execution_count": 457,
     "metadata": {},
     "output_type": "execute_result"
    }
   ],
   "source": [
    "import numpy as np\n",
    "np.array(torch.tensor(loss_values).cpu().numpy()), test_loss_values\n",
    "loss_values, test_loss_values"
   ]
  },
  {
   "cell_type": "code",
   "execution_count": 459,
   "metadata": {},
   "outputs": [
    {
     "data": {
      "image/png": "[encoded data removed]",
      "text/plain": [
       "<Figure size 640x480 with 1 Axes>"
      ]
     },
     "metadata": {},
     "output_type": "display_data"
    }
   ],
   "source": [
    "# plot the loss curves\n",
    "plt.plot(epoch_count, np.array(torch.tensor(loss_values).numpy()), label='Train loss')\n",
    "plt.plot(epoch_count, test_loss_values, label=\"Test loss\")\n",
    "plt.title(\"Training and test loss curves\")\n",
    "plt.ylabel(\"Loss\")\n",
    "\n",
    "plt.ylabel(\"Loss\")\n",
    "plt.xlabel(\"Epochs\")\n",
    "plt.legend()\n"
   ]
  },
  {
   "cell_type": "code",
   "execution_count": 454,
   "metadata": {},
   "outputs": [],
   "source": [
    "with torch.inference_mode():\n",
    "    y_preds_new = model_0(X_test)"
   ]
  },
  {
   "cell_type": "code",
   "execution_count": 455,
   "metadata": {},
   "outputs": [
    {
     "data": {
      "image/png": "[encoded data removed]",
      "text/plain": [
       "<Figure size 1000x700 with 1 Axes>"
      ]
     },
     "metadata": {},
     "output_type": "display_data"
    }
   ],
   "source": [
    "plot_predictions(predictions=y_preds_new)"
   ]
  },
  {
   "cell_type": "markdown",
   "metadata": {},
   "source": [
    "## Saving a Model in Pytorch\n",
    "\n",
    "There are three main methods you should about for saving and loading models in Pytorch\n",
    "1. `torch.save()` - allows you save a Pytorch object in Python's pickle format\n",
    "2. `torch.load()` - allows you load a saved Python Project\n",
    "3. `torch.nn.Module.load_state_dict()` - allow to load a model's saved state dictionary\n",
    "\n"
   ]
  },
  {
   "cell_type": "code",
   "execution_count": 461,
   "metadata": {},
   "outputs": [
    {
     "name": "stdout",
     "output_type": "stream",
     "text": [
      "Saving model to: Models\\01_pytorch_workflow_model_0.pth\n"
     ]
    }
   ],
   "source": [
    "# Saving our Pytorch model\n",
    "from pathlib import Path\n",
    "\n",
    "# 1. Create models directory\n",
    "MODEL_PATH = Path(\"Models\")\n",
    "MODEL_PATH.mkdir(parents=True, exist_ok=True)\n",
    "\n",
    "# 2. Create model save path\n",
    "MODEL_NAME = \"01_pytorch_workflow_model_0.pth\"\n",
    "MODEL_SAVE_PATH = MODEL_PATH / MODEL_NAME\n",
    "\n",
    "# 3. Save the model state dict\n",
    "print(f\"Saving model to: {MODEL_SAVE_PATH}\")\n",
    "torch.save(obj=model_0.state_dict(),\n",
    "           f=MODEL_SAVE_PATH)"
   ]
  },
  {
   "cell_type": "markdown",
   "metadata": {},
   "source": [
    "## Loading a Pytorch model \n",
    "\n",
    "Since we saved our model's `state_dict()` rather the entire model, we'll create a new instance of our model class and load the saved `state_dict()` into that"
   ]
  },
  {
   "cell_type": "code",
   "execution_count": 464,
   "metadata": {},
   "outputs": [
    {
     "data": {
      "text/plain": [
       "OrderedDict([('weights', tensor([0.6848], dtype=torch.float64)),\n",
       "             ('bias', tensor([0.3064], dtype=torch.float64))])"
      ]
     },
     "execution_count": 464,
     "metadata": {},
     "output_type": "execute_result"
    }
   ],
   "source": [
    "model_0.state_dict()"
   ]
  },
  {
   "cell_type": "code",
   "execution_count": 465,
   "metadata": {},
   "outputs": [
    {
     "data": {
      "text/plain": [
       "<All keys matched successfully>"
      ]
     },
     "execution_count": 465,
     "metadata": {},
     "output_type": "execute_result"
    }
   ],
   "source": [
    "# To load in a saved state dict we have to instantiate\n",
    "loaded_model_0 = LinearRegressionModel() \n",
    "\n",
    "# Load the saved state dict of model_0 (this will update the new instance with updated parameters)\n",
    "loaded_model_0.load_state_dict(torch.load(f=MODEL_SAVE_PATH))"
   ]
  },
  {
   "cell_type": "code",
   "execution_count": 472,
   "metadata": {},
   "outputs": [
    {
     "data": {
      "text/plain": [
       "tensor([[0.8542],\n",
       "        [0.8679],\n",
       "        [0.8816],\n",
       "        [0.8953],\n",
       "        [0.9090],\n",
       "        [0.9227],\n",
       "        [0.9364],\n",
       "        [0.9501],\n",
       "        [0.9638],\n",
       "        [0.9775]], dtype=torch.float64)"
      ]
     },
     "execution_count": 472,
     "metadata": {},
     "output_type": "execute_result"
    }
   ],
   "source": [
    "# Make some predictions with our loaded model\n",
    "loaded_model_0.eval()\n",
    "with torch.inference_mode():\n",
    "    loaded_model_preds = loaded_model_0(X_test)\n",
    "    \n",
    "loaded_model_preds"
   ]
  },
  {
   "cell_type": "code",
   "execution_count": 474,
   "metadata": {},
   "outputs": [
    {
     "data": {
      "text/plain": [
       "tensor([[0.8542],\n",
       "        [0.8679],\n",
       "        [0.8816],\n",
       "        [0.8953],\n",
       "        [0.9090],\n",
       "        [0.9227],\n",
       "        [0.9364],\n",
       "        [0.9501],\n",
       "        [0.9638],\n",
       "        [0.9775]], dtype=torch.float64)"
      ]
     },
     "execution_count": 474,
     "metadata": {},
     "output_type": "execute_result"
    }
   ],
   "source": [
    "# Make some models preds\n",
    "model_0.eval()\n",
    "with torch.inference_mode():\n",
    "    y_preds = model_0(X_test)\n",
    "    \n",
    "y_preds"
   ]
  },
  {
   "cell_type": "code",
   "execution_count": 475,
   "metadata": {},
   "outputs": [
    {
     "data": {
      "text/plain": [
       "tensor([[True],\n",
       "        [True],\n",
       "        [True],\n",
       "        [True],\n",
       "        [True],\n",
       "        [True],\n",
       "        [True],\n",
       "        [True],\n",
       "        [True],\n",
       "        [True]])"
      ]
     },
     "execution_count": 475,
     "metadata": {},
     "output_type": "execute_result"
    }
   ],
   "source": [
    "y_preds == loaded_model_preds"
   ]
  },
  {
   "cell_type": "markdown",
   "metadata": {},
   "source": [
    "## Exercises"
   ]
  },
  {
   "cell_type": "markdown",
   "metadata": {},
   "source": [
    "1. Create a straight line dataset using the linear regression formula (weight * X + bias).\n",
    "* Set weight=0.3 and bias=0.9 there should be at least 100 datapoints total.\n",
    "* Split the data into 80% training, 20% testing.\n",
    "* Plot the training and testing data so it becomes visual."
   ]
  },
  {
   "cell_type": "code",
   "execution_count": 533,
   "metadata": {},
   "outputs": [
    {
     "data": {
      "text/plain": [
       "(tensor([[ 1],\n",
       "         [ 2],\n",
       "         [ 3],\n",
       "         [ 4],\n",
       "         [ 5],\n",
       "         [ 6],\n",
       "         [ 7],\n",
       "         [ 8],\n",
       "         [ 9],\n",
       "         [10]]),\n",
       " tensor([[1.2000],\n",
       "         [1.5000],\n",
       "         [1.8000],\n",
       "         [2.1000],\n",
       "         [2.4000],\n",
       "         [2.7000],\n",
       "         [3.0000],\n",
       "         [3.3000],\n",
       "         [3.6000],\n",
       "         [3.9000]]),\n",
       " 100,\n",
       " 100)"
      ]
     },
     "execution_count": 533,
     "metadata": {},
     "output_type": "execute_result"
    }
   ],
   "source": [
    "# Set weight=0.3 and bias=0.9 there should be at least 100 data points total\n",
    "weight = 0.3\n",
    "bias = 0.9\n",
    "\n",
    "\n",
    "X = torch.arange(1, 101, 1).unsqueeze(dim=1)\n",
    "y = weight * X + bias\n",
    "\n",
    "X[:10], y[:10], len(X), len(y)"
   ]
  },
  {
   "cell_type": "code",
   "execution_count": 534,
   "metadata": {},
   "outputs": [
    {
     "data": {
      "text/plain": [
       "(80, 80, 20, 20)"
      ]
     },
     "execution_count": 534,
     "metadata": {},
     "output_type": "execute_result"
    }
   ],
   "source": [
    "# Split the data into 80% training, 20% testing.\n",
    "train_split = int(len(X) * 0.8)\n",
    "X_train, y_train = X[:train_split], y[:train_split]\n",
    "X_test, y_test = X[train_split:], y[train_split:]\n",
    "\n",
    "len(X_train), len(y_train), len(X_test), len(y_test)"
   ]
  },
  {
   "cell_type": "code",
   "execution_count": 535,
   "metadata": {},
   "outputs": [],
   "source": [
    "# Plot the training and testing data so it becomes visual.\n",
    "def plot_predictions(train_data=X_train, # type: ignore\n",
    "                     train_labels=y_train,\n",
    "                     test_data=X_test,\n",
    "                     test_labels=y_test,\n",
    "                     predictions=None):\n",
    "    ''' \n",
    "    Plots training data, test data & compares predictions\n",
    "    '''\n",
    "    plt.figure(figsize=(10,7 ))\n",
    "    # Plot training data in blue\n",
    "    plt.scatter(train_data, train_labels, c='b', s=4, label=\"Training data\")\n",
    "    \n",
    "    # Plot test data in green\n",
    "    plt.scatter(test_data, test_labels, c='g', s=4, label=\"Testing data\")\n",
    "    \n",
    "    # Are there predictions?\n",
    "    if predictions is not None:\n",
    "        plt.scatter(test_data, predictions, c='r', s=4, label='Predictions')\n",
    "    \n",
    "    # Show the legend\n",
    "    plt.legend(prop={'size':14})\n",
    "    "
   ]
  },
  {
   "cell_type": "code",
   "execution_count": 536,
   "metadata": {},
   "outputs": [
    {
     "data": {
      "image/png": "[encoded data removed]",
      "text/plain": [
       "<Figure size 1000x700 with 1 Axes>"
      ]
     },
     "metadata": {},
     "output_type": "display_data"
    }
   ],
   "source": [
    "plot_predictions(X_train)"
   ]
  },
  {
   "cell_type": "markdown",
   "metadata": {},
   "source": [
    "## Build Model"
   ]
  },
  {
   "cell_type": "code",
   "execution_count": 537,
   "metadata": {},
   "outputs": [
    {
     "data": {
      "text/plain": [
       "OrderedDict([('weights', tensor([0.0582], dtype=torch.float64)),\n",
       "             ('bias', tensor([0.0629], dtype=torch.float64))])"
      ]
     },
     "execution_count": 537,
     "metadata": {},
     "output_type": "execute_result"
    }
   ],
   "source": [
    "from torch import nn\n",
    "# Create Linear Regression Model Class\n",
    "class LinearRegressionModel(nn.Module): # Almost everything in Pytorch inherits from nn.Module\n",
    "    def __init__(self):\n",
    "        super().__init__()\n",
    "        self.weights = nn.Parameter(torch.rand(1,\n",
    "                                               requires_grad=True,\n",
    "                                               dtype=torch.float64))\n",
    "        self.bias = nn.Parameter(torch.rand(1,\n",
    "                                            requires_grad=True,\n",
    "                                            dtype=torch.float64) )\n",
    "        # Forward method to define the computation in the model\n",
    "    def forward(self, x: torch.Tensor ) -> torch.Tensor: # <- x is the input data\n",
    "        return self.weights * x + self.bias # this is the linear regression formula\n",
    "\n",
    "torch.manual_seed(42)\n",
    "model_1 = LinearRegressionModel()\n",
    "model_1.state_dict()"
   ]
  },
  {
   "cell_type": "markdown",
   "metadata": {},
   "source": [
    "## Create a loss function and optimizer\n",
    "\n",
    "using nn.L1Loss() and torch.optim.SGD(params, lr) respectively."
   ]
  },
  {
   "cell_type": "code",
   "execution_count": 538,
   "metadata": {},
   "outputs": [],
   "source": [
    "loss_fn = nn.L1Loss() # Set up a loss function\n",
    "optimizer = torch.optim.SGD(params=model_1.parameters(),\n",
    "                            lr=0.01)"
   ]
  },
  {
   "cell_type": "code",
   "execution_count": 539,
   "metadata": {},
   "outputs": [
    {
     "name": "stdout",
     "output_type": "stream",
     "text": [
      "Loss: 10.631833374654938\n",
      "Epoch: 0 | Loss: 10.631833374654938 | Test loss: 13.938390383994511\n",
      "OrderedDict([('weights', tensor([0.6848], dtype=torch.float64)), ('bias', tensor([0.3064], dtype=torch.float64))])\n",
      "Loss: 5.822869922181455\n",
      "Loss: 10.478708374654936\n",
      "Loss: 5.974649484728063\n",
      "Loss: 10.376458374654936\n",
      "Loss: 6.076174484728064\n",
      "Loss: 10.274208374654936\n",
      "Loss: 6.1776994847280635\n",
      "Loss: 10.171958374654935\n",
      "Loss: 6.279224484728064\n",
      "Loss: 10.069708374654935\n",
      "Loss: 6.380749484728064\n",
      "Loss: 9.967458374654935\n",
      "Loss: 6.482274484728063\n",
      "Loss: 9.865208374654937\n",
      "Loss: 6.583799484728064\n",
      "Loss: 9.762958374654936\n",
      "Loss: 6.685324484728065\n",
      "Loss: 9.660708374654936\n",
      "Loss: 6.786849484728064\n",
      "Loss: 9.558458374654936\n",
      "Epoch: 20 | Loss: 9.558458374654936 | Test loss: 16.324265383994522\n",
      "OrderedDict([('weights', tensor([0.6848], dtype=torch.float64)), ('bias', tensor([0.3064], dtype=torch.float64))])\n",
      "Loss: 6.8883744847280655\n",
      "Loss: 9.456208374654935\n",
      "Loss: 6.989899484728065\n",
      "Loss: 9.353958374654933\n",
      "Loss: 7.091424484728066\n",
      "Loss: 9.251708374654935\n",
      "Loss: 7.192949484728065\n",
      "Loss: 9.149458374654937\n",
      "Loss: 7.294474484728065\n",
      "Loss: 9.047208374654934\n",
      "Loss: 7.3959994847280655\n",
      "Loss: 8.944958374654936\n",
      "Loss: 7.4976939398940115\n",
      "Loss: 8.88345837465493\n",
      "Loss: 7.558912689894012\n",
      "Loss: 8.821958374654928\n",
      "Loss: 7.620131439894015\n",
      "Loss: 8.760458374654926\n",
      "Loss: 7.681350189894017\n",
      "Loss: 8.698958374654925\n",
      "Epoch: 40 | Loss: 8.698958374654925 | Test loss: 18.233765383994548\n",
      "OrderedDict([('weights', tensor([0.6848], dtype=torch.float64)), ('bias', tensor([0.3064], dtype=torch.float64))])\n",
      "Loss: 7.742568939894021\n",
      "Loss: 8.637458374654921\n",
      "Loss: 7.803787689894021\n",
      "Loss: 8.57595837465492\n",
      "Loss: 7.8650064398940245\n",
      "Loss: 8.514458374654918\n",
      "Loss: 7.926225189894026\n",
      "Loss: 8.452958374654916\n",
      "Loss: 7.98744393989403\n",
      "Loss: 8.391458374654913\n",
      "Loss: 8.048662689894032\n",
      "Loss: 8.329958374654911\n",
      "Loss: 8.109881439894034\n",
      "Loss: 8.268458374654907\n",
      "Loss: 8.171100189894036\n",
      "Loss: 8.206958374654906\n",
      "Loss: 8.23231893989404\n",
      "Loss: 8.145458374654902\n",
      "Loss: 8.293537689894041\n",
      "Loss: 8.083958374654902\n",
      "Epoch: 60 | Loss: 8.083958374654902 | Test loss: 19.5987653839946\n",
      "OrderedDict([('weights', tensor([0.6848], dtype=torch.float64)), ('bias', tensor([0.3064], dtype=torch.float64))])\n",
      "Loss: 8.354756439894043\n",
      "Loss: 8.0224583746549\n",
      "Loss: 8.415975189894045\n",
      "Loss: 7.960958374654896\n",
      "Loss: 8.477193939894047\n",
      "Loss: 7.899458374654893\n",
      "Loss: 8.538412689894049\n",
      "Loss: 7.8379583746548915\n",
      "Loss: 8.599631439894052\n",
      "Loss: 7.776458374654888\n",
      "Loss: 8.660850189894054\n",
      "Loss: 7.714958374654887\n",
      "Loss: 8.722068939894058\n",
      "Loss: 7.653458374654884\n",
      "Loss: 8.783287689894058\n",
      "Loss: 7.591958374654882\n",
      "Loss: 8.84450643989406\n",
      "Loss: 7.53045837465488\n",
      "Loss: 8.905725189894062\n",
      "Loss: 7.4689583746548776\n",
      "Epoch: 80 | Loss: 7.4689583746548776 | Test loss: 20.963765383994645\n",
      "OrderedDict([('weights', tensor([0.6848], dtype=torch.float64)), ('bias', tensor([0.3064], dtype=torch.float64))])\n",
      "Loss: 8.966943939894065\n",
      "Loss: 7.407458374654875\n",
      "Loss: 9.028162689894069\n",
      "Loss: 7.345958374654873\n",
      "Loss: 9.089381439894069\n",
      "Loss: 7.28445837465487\n",
      "Loss: 9.150600189894073\n",
      "Loss: 7.222958374654868\n",
      "Loss: 9.211818939894073\n",
      "Loss: 7.161458374654866\n",
      "Loss: 9.273037689894078\n",
      "Loss: 7.099958374654864\n",
      "Loss: 9.33425643989408\n",
      "Loss: 7.038458374654861\n",
      "Loss: 9.395475189894082\n",
      "Loss: 6.976958374654859\n",
      "Loss: 9.456693939894084\n",
      "Loss: 6.915458374654857\n",
      "Loss: 9.517912689894088\n",
      "Loss: 6.853958374654854\n",
      "Epoch: 100 | Loss: 6.853958374654854 | Test loss: 22.3287653839947\n",
      "OrderedDict([('weights', tensor([0.6848], dtype=torch.float64)), ('bias', tensor([0.3064], dtype=torch.float64))])\n",
      "Loss: 9.579131439894088\n",
      "Loss: 6.792458374654851\n",
      "Loss: 9.640350189894091\n",
      "Loss: 6.73095837465485\n",
      "Loss: 9.701568939894093\n",
      "Loss: 6.669458374654847\n",
      "Loss: 9.762787689894095\n",
      "Loss: 6.607958374654845\n",
      "Loss: 9.824053281718912\n",
      "Loss: 6.577083374654845\n",
      "Loss: 9.854847031718913\n",
      "Loss: 6.546208374654843\n",
      "Loss: 9.885640781718916\n",
      "Loss: 6.515333374654841\n",
      "Loss: 9.916434531718915\n",
      "Loss: 6.4844583746548405\n",
      "Loss: 9.947228281718916\n",
      "Loss: 6.4535833746548406\n",
      "Loss: 9.978022031718918\n",
      "Loss: 6.422708374654837\n",
      "Epoch: 120 | Loss: 6.422708374654837 | Test loss: 23.285015383994732\n",
      "OrderedDict([('weights', tensor([0.6848], dtype=torch.float64)), ('bias', tensor([0.3064], dtype=torch.float64))])\n",
      "Loss: 10.00881578171892\n",
      "Loss: 6.391833374654838\n",
      "Loss: 10.03960953171892\n",
      "Loss: 6.360958374654836\n",
      "Loss: 10.07040328171892\n",
      "Loss: 6.330083374654835\n",
      "Loss: 10.101197031718922\n",
      "Loss: 6.2992083746548335\n",
      "Loss: 10.131990781718923\n",
      "Loss: 6.268333374654833\n",
      "Loss: 10.162784531718923\n",
      "Loss: 6.237458374654833\n",
      "Loss: 10.193578281718926\n",
      "Loss: 6.206583374654831\n",
      "Loss: 10.224372031718927\n",
      "Loss: 6.175708374654829\n",
      "Loss: 10.25516578171893\n",
      "Loss: 6.144833374654828\n",
      "Loss: 10.28595953171893\n",
      "Loss: 6.113958374654827\n",
      "Epoch: 140 | Loss: 6.113958374654827 | Test loss: 23.968765383994757\n",
      "OrderedDict([('weights', tensor([0.6848], dtype=torch.float64)), ('bias', tensor([0.3064], dtype=torch.float64))])\n",
      "Loss: 10.316753281718931\n",
      "Loss: 6.083083374654825\n",
      "Loss: 10.347547031718932\n",
      "Loss: 6.052208374654825\n",
      "Loss: 10.378340781718933\n",
      "Loss: 6.021333374654824\n",
      "Loss: 10.409134531718934\n",
      "Loss: 5.990458374654822\n",
      "Loss: 10.439928281718934\n",
      "Loss: 5.959583374654822\n",
      "Loss: 10.470722031718937\n",
      "Loss: 5.9287083746548195\n",
      "Loss: 10.501515781718938\n",
      "Loss: 5.897833374654819\n",
      "Loss: 10.532309531718939\n",
      "Loss: 5.866958374654819\n",
      "Loss: 10.563103281718938\n",
      "Loss: 5.836083374654817\n",
      "Loss: 10.593897031718942\n",
      "Loss: 5.805208374654815\n",
      "Epoch: 160 | Loss: 5.805208374654815 | Test loss: 24.65251538399479\n",
      "OrderedDict([('weights', tensor([0.6848], dtype=torch.float64)), ('bias', tensor([0.3064], dtype=torch.float64))])\n",
      "Loss: 10.624690781718943\n",
      "Loss: 5.774333374654814\n",
      "Loss: 10.655484531718944\n",
      "Loss: 5.743458374654813\n",
      "Loss: 10.686278281718945\n",
      "Loss: 5.712583374654812\n",
      "Loss: 10.717072031718946\n",
      "Loss: 5.681708374654811\n",
      "Loss: 10.747865781718946\n",
      "Loss: 5.65083337465481\n",
      "Loss: 10.778659531718947\n",
      "Loss: 5.619958374654809\n",
      "Loss: 10.80945328171895\n",
      "Loss: 5.589083374654808\n",
      "Loss: 10.840247031718949\n",
      "Loss: 5.558208374654805\n",
      "Loss: 10.87104078171895\n",
      "Loss: 5.527333374654805\n",
      "Loss: 10.90183453171895\n",
      "Loss: 5.496458374654805\n",
      "Epoch: 180 | Loss: 5.496458374654805 | Test loss: 25.33626538399481\n",
      "OrderedDict([('weights', tensor([0.6848], dtype=torch.float64)), ('bias', tensor([0.3064], dtype=torch.float64))])\n",
      "Loss: 10.932628281718952\n",
      "Loss: 5.465583374654803\n",
      "Loss: 10.963422031718954\n",
      "Loss: 5.434708374654802\n",
      "Loss: 10.994215781718955\n",
      "Loss: 5.4038333746548\n",
      "Loss: 11.025009531718956\n",
      "Loss: 5.372958374654799\n",
      "Loss: 11.055803281718958\n",
      "Loss: 5.3420833746547975\n",
      "Loss: 11.086597031718961\n",
      "Loss: 5.311208374654798\n",
      "Loss: 11.117390781718958\n",
      "Loss: 5.280333374654796\n",
      "Loss: 11.148184531718961\n",
      "Loss: 5.249458374654795\n",
      "Loss: 11.178978281718962\n",
      "Loss: 5.218583374654794\n",
      "Loss: 11.209772031718964\n",
      "Loss: 5.187708374654791\n",
      "Epoch: 200 | Loss: 5.187708374654791 | Test loss: 26.02001538399484\n",
      "OrderedDict([('weights', tensor([0.6848], dtype=torch.float64)), ('bias', tensor([0.3064], dtype=torch.float64))])\n",
      "Loss: 11.240565781718965\n",
      "Loss: 5.156833374654792\n",
      "Loss: 11.271359531718968\n",
      "Loss: 5.1259583746547905\n",
      "Loss: 11.302153281718967\n",
      "Loss: 5.095083374654789\n",
      "Loss: 11.33294703171897\n",
      "Loss: 5.064208374654788\n",
      "Loss: 11.36374078171897\n",
      "Loss: 5.033333374654786\n",
      "Loss: 11.39453453171897\n",
      "Loss: 5.002458374654785\n",
      "Loss: 11.425328281718972\n",
      "Loss: 4.971583374654784\n",
      "Loss: 11.456122031718973\n",
      "Loss: 4.940708374654784\n",
      "Loss: 11.486915781718974\n",
      "Loss: 4.909833374654783\n",
      "Loss: 11.517709531718976\n",
      "Loss: 4.878958374654781\n",
      "Epoch: 220 | Loss: 4.878958374654781 | Test loss: 26.70376538399487\n",
      "OrderedDict([('weights', tensor([0.6848], dtype=torch.float64)), ('bias', tensor([0.3064], dtype=torch.float64))])\n",
      "Loss: 11.548503281718979\n",
      "Loss: 4.84808337465478\n",
      "Loss: 11.579297031718976\n",
      "Loss: 4.817208374654778\n",
      "Loss: 11.610090781718979\n",
      "Loss: 4.786333374654778\n",
      "Loss: 11.64088453171898\n",
      "Loss: 4.7554583746547765\n",
      "Loss: 11.671678281718979\n",
      "Loss: 4.724583374654776\n",
      "Loss: 11.702472031718983\n",
      "Loss: 4.693708374654774\n",
      "Loss: 11.733265781718982\n",
      "Loss: 4.662833374654772\n",
      "Loss: 11.764059531718985\n",
      "Loss: 4.631958374654771\n",
      "Loss: 11.794853281718986\n",
      "Loss: 4.60108337465477\n",
      "Loss: 11.825647031718987\n",
      "Loss: 4.57020837465477\n",
      "Epoch: 240 | Loss: 4.57020837465477 | Test loss: 27.387515383994888\n",
      "OrderedDict([('weights', tensor([0.6848], dtype=torch.float64)), ('bias', tensor([0.3064], dtype=torch.float64))])\n",
      "Loss: 11.856440781718987\n",
      "Loss: 4.539333374654769\n",
      "Loss: 11.88723453171899\n",
      "Loss: 4.508458374654768\n",
      "Loss: 11.91802828171899\n",
      "Loss: 4.477583374654766\n",
      "Loss: 11.94882203171899\n",
      "Loss: 4.446708374654765\n",
      "Loss: 11.979615781718994\n",
      "Loss: 4.415833374654764\n",
      "Loss: 12.010409531718993\n",
      "Loss: 4.3849583746547625\n",
      "Loss: 12.041203281718994\n",
      "Loss: 4.354083374654762\n",
      "Loss: 12.071997031718997\n",
      "Loss: 4.32320837465476\n",
      "Loss: 12.102790781718998\n",
      "Loss: 4.292333374654758\n",
      "Loss: 12.133584531718997\n",
      "Loss: 4.261458374654759\n",
      "Epoch: 260 | Loss: 4.261458374654759 | Test loss: 28.07126538399492\n",
      "OrderedDict([('weights', tensor([0.6848], dtype=torch.float64)), ('bias', tensor([0.3064], dtype=torch.float64))])\n",
      "Loss: 12.164378281719\n",
      "Loss: 4.230583374654757\n",
      "Loss: 12.195172031719002\n",
      "Loss: 4.199708374654755\n",
      "Loss: 12.225965781719001\n",
      "Loss: 4.168833374654755\n",
      "Loss: 12.256759531719004\n",
      "Loss: 4.137958374654753\n",
      "Loss: 12.287553281719005\n",
      "Loss: 4.107083374654752\n",
      "Loss: 12.318347031719005\n",
      "Loss: 4.076208374654751\n",
      "Loss: 12.349140781719006\n",
      "Loss: 4.04533337465475\n",
      "Loss: 12.37993453171901\n",
      "Loss: 4.014458374654748\n",
      "Loss: 12.410728281719008\n",
      "Loss: 3.983583374654748\n",
      "Loss: 12.44152203171901\n",
      "Loss: 3.9527083746547462\n",
      "Epoch: 280 | Loss: 3.9527083746547462 | Test loss: 28.75501538399494\n",
      "OrderedDict([('weights', tensor([0.6848], dtype=torch.float64)), ('bias', tensor([0.3064], dtype=torch.float64))])\n",
      "Loss: 12.472315781719011\n",
      "Loss: 3.921833374654745\n",
      "Loss: 12.50310953171901\n",
      "Loss: 3.890958374654745\n",
      "Loss: 12.533903281719015\n",
      "Loss: 3.860083374654743\n",
      "Loss: 12.564697031719016\n",
      "Loss: 3.8292083746547414\n",
      "Loss: 12.595490781719013\n",
      "Loss: 3.798333374654741\n",
      "Loss: 12.626284531719017\n",
      "Loss: 3.7674583746547397\n",
      "Loss: 12.65707828171902\n",
      "Loss: 3.736583374654738\n",
      "Loss: 12.687872031719019\n",
      "Loss: 3.705708374654738\n",
      "Loss: 12.718665781719022\n",
      "Loss: 3.674833374654736\n",
      "Loss: 12.749459531719022\n",
      "Loss: 3.643958374654735\n",
      "Epoch: 300 | Loss: 3.643958374654735 | Test loss: 29.438765383994962\n",
      "OrderedDict([('weights', tensor([0.6848], dtype=torch.float64)), ('bias', tensor([0.3064], dtype=torch.float64))])\n",
      "Loss: 12.780253281719022\n",
      "Loss: 3.613083374654734\n",
      "Loss: 12.811047031719024\n",
      "Loss: 3.5822083746547326\n",
      "Loss: 12.841840781719025\n",
      "Loss: 3.551333374654731\n",
      "Loss: 12.872634531719024\n",
      "Loss: 3.520458374654731\n",
      "Loss: 12.903428281719027\n",
      "Loss: 3.489583374654729\n",
      "Loss: 12.934222031719031\n",
      "Loss: 3.4587083746547274\n",
      "Loss: 12.965015781719028\n",
      "Loss: 3.4278333746547274\n",
      "Loss: 12.995809531719033\n",
      "Loss: 3.3969583746547256\n",
      "Loss: 13.02660328171903\n",
      "Loss: 3.366083374654724\n",
      "Loss: 13.05739703171903\n",
      "Loss: 3.335208374654724\n",
      "Epoch: 320 | Loss: 3.335208374654724 | Test loss: 30.122515383994994\n",
      "OrderedDict([('weights', tensor([0.6848], dtype=torch.float64)), ('bias', tensor([0.3064], dtype=torch.float64))])\n",
      "Loss: 13.088190781719035\n",
      "Loss: 3.304333374654722\n",
      "Loss: 13.118984531719036\n",
      "Loss: 3.2734583746547217\n",
      "Loss: 13.149778281719037\n",
      "Loss: 3.2425833746547204\n",
      "Loss: 13.180572031719038\n",
      "Loss: 3.2117083746547186\n",
      "Loss: 13.211365781719035\n",
      "Loss: 3.1808333746547177\n",
      "Loss: 13.24215953171904\n",
      "Loss: 3.149958374654717\n",
      "Loss: 13.272953281719044\n",
      "Loss: 3.119083374654715\n",
      "Loss: 13.303747031719041\n",
      "Loss: 3.088208374654714\n",
      "Loss: 13.334540781719042\n",
      "Loss: 3.0573333746547133\n",
      "Loss: 13.365334531719046\n",
      "Loss: 3.0264583746547125\n",
      "Epoch: 340 | Loss: 3.0264583746547125 | Test loss: 30.806265383995015\n",
      "OrderedDict([('weights', tensor([0.6848], dtype=torch.float64)), ('bias', tensor([0.3064], dtype=torch.float64))])\n",
      "Loss: 13.396128281719047\n",
      "Loss: 2.9955833746547107\n",
      "Loss: 13.426922031719045\n",
      "Loss: 2.96470837465471\n",
      "Loss: 13.457715781719049\n",
      "Loss: 2.9338333746547085\n",
      "Loss: 13.488509531719046\n",
      "Loss: 2.9029583746547076\n",
      "Loss: 13.51930328171905\n",
      "Loss: 2.8720833746547063\n",
      "Loss: 13.550097031719053\n",
      "Loss: 2.8412083746547054\n",
      "Loss: 13.580890781719052\n",
      "Loss: 2.8103333746547037\n",
      "Loss: 13.611684531719053\n",
      "Loss: 2.779458374654703\n",
      "Loss: 13.642478281719056\n",
      "Loss: 2.7485833746547015\n",
      "Loss: 13.673272031719057\n",
      "Loss: 2.7177083746547\n",
      "Epoch: 360 | Loss: 2.7177083746547 | Test loss: 31.490015383995047\n",
      "OrderedDict([('weights', tensor([0.6848], dtype=torch.float64)), ('bias', tensor([0.3064], dtype=torch.float64))])\n",
      "Loss: 13.704065781719056\n",
      "Loss: 2.6868333746546993\n",
      "Loss: 13.734859531719058\n",
      "Loss: 2.6559583746546984\n",
      "Loss: 13.765653281719057\n",
      "Loss: 2.6250833746546967\n",
      "Loss: 13.79644703171906\n",
      "Loss: 2.594208374654696\n",
      "Loss: 13.827252510202749\n",
      "Loss: 2.583833374654694\n",
      "Loss: 13.837615010202754\n",
      "Loss: 2.5734583746546913\n",
      "Loss: 13.847977510202753\n",
      "Loss: 2.5630833746546875\n",
      "Loss: 13.858340010202758\n",
      "Loss: 2.552708374654684\n",
      "Loss: 13.86870251020276\n",
      "Loss: 2.542333374654681\n",
      "Loss: 13.879065010202766\n",
      "Loss: 2.5319583746546774\n",
      "Epoch: 380 | Loss: 2.5319583746546774 | Test loss: 31.900765383995104\n",
      "OrderedDict([('weights', tensor([0.6848], dtype=torch.float64)), ('bias', tensor([0.3064], dtype=torch.float64))])\n",
      "Loss: 13.889427510202768\n",
      "Loss: 2.521583374654674\n",
      "Loss: 13.89979001020277\n",
      "Loss: 2.5112083746546707\n",
      "Loss: 13.910152510202773\n",
      "Loss: 2.5008333746546674\n",
      "Loss: 13.920515010202777\n",
      "Loss: 2.490458374654664\n",
      "Loss: 13.930877510202782\n",
      "Loss: 2.4800833746546607\n",
      "Loss: 13.941240010202785\n",
      "Loss: 2.4697083746546573\n",
      "Loss: 13.95160251020279\n",
      "Loss: 2.459333374654654\n",
      "Loss: 13.961965010202793\n",
      "Loss: 2.4489583746546506\n",
      "Loss: 13.972327510202797\n",
      "Loss: 2.4385833746546473\n",
      "Loss: 13.982690010202797\n",
      "Loss: 2.428208374654644\n",
      "Epoch: 400 | Loss: 2.428208374654644 | Test loss: 32.12951538399518\n",
      "OrderedDict([('weights', tensor([0.6848], dtype=torch.float64)), ('bias', tensor([0.3064], dtype=torch.float64))])\n",
      "Loss: 13.993052510202801\n",
      "Loss: 2.4178333746546405\n",
      "Loss: 14.003415010202806\n",
      "Loss: 2.4074583746546367\n",
      "Loss: 14.013777510202809\n",
      "Loss: 2.397083374654634\n",
      "Loss: 14.024140010202814\n",
      "Loss: 2.386708374654631\n",
      "Loss: 14.034502510202813\n",
      "Loss: 2.3763333746546267\n",
      "Loss: 14.044865010202818\n",
      "Loss: 2.3659583746546238\n",
      "Loss: 14.05522751020282\n",
      "Loss: 2.3555833746546204\n",
      "Loss: 14.065590010202826\n",
      "Loss: 2.3452083746546166\n",
      "Loss: 14.07595251020283\n",
      "Loss: 2.3348333746546137\n",
      "Loss: 14.086315010202833\n",
      "Loss: 2.3244583746546104\n",
      "Epoch: 420 | Loss: 2.3244583746546104 | Test loss: 32.358265383995246\n",
      "OrderedDict([('weights', tensor([0.6848], dtype=torch.float64)), ('bias', tensor([0.3064], dtype=torch.float64))])\n",
      "Loss: 14.096677510202834\n",
      "Loss: 2.3140833746546066\n",
      "Loss: 14.107040010202837\n",
      "Loss: 2.303708374654603\n",
      "Loss: 14.117402510202842\n",
      "Loss: 2.2933333746546003\n",
      "Loss: 14.127765010202847\n",
      "Loss: 2.2829583746545965\n",
      "Loss: 14.13812751020285\n",
      "Loss: 2.272583374654593\n",
      "Loss: 14.148490010202854\n",
      "Loss: 2.2622083746545902\n",
      "Loss: 14.158852510202854\n",
      "Loss: 2.2518333746545864\n",
      "Loss: 14.169215010202858\n",
      "Loss: 2.241458374654582\n",
      "Loss: 14.179577510202865\n",
      "Loss: 2.23108337465458\n",
      "Loss: 14.189940010202866\n",
      "Loss: 2.220708374654576\n",
      "Epoch: 440 | Loss: 2.220708374654576 | Test loss: 32.58701538399533\n",
      "OrderedDict([('weights', tensor([0.6848], dtype=torch.float64)), ('bias', tensor([0.3064], dtype=torch.float64))])\n",
      "Loss: 14.200302510202869\n",
      "Loss: 2.210333374654572\n",
      "Loss: 14.210665010202877\n",
      "Loss: 2.19995837465457\n",
      "Loss: 14.221027510202877\n",
      "Loss: 2.189583374654566\n",
      "Loss: 14.231390010202878\n",
      "Loss: 2.179208374654562\n",
      "Loss: 14.241752510202883\n",
      "Loss: 2.16883337465456\n",
      "Loss: 14.252115010202886\n",
      "Loss: 2.158458374654556\n",
      "Loss: 14.26247751020289\n",
      "Loss: 2.148083374654552\n",
      "Loss: 14.272840010202895\n",
      "Loss: 2.1377083746545495\n",
      "Loss: 14.283202510202894\n",
      "Loss: 2.1273333746545453\n",
      "Loss: 14.2935650102029\n",
      "Loss: 2.116958374654542\n",
      "Epoch: 460 | Loss: 2.116958374654542 | Test loss: 32.815765383995405\n",
      "OrderedDict([('weights', tensor([0.6848], dtype=torch.float64)), ('bias', tensor([0.3064], dtype=torch.float64))])\n",
      "Loss: 14.303927510202902\n",
      "Loss: 2.1065833746545395\n",
      "Loss: 14.314290010202907\n",
      "Loss: 2.0962083746545352\n",
      "Loss: 14.32465251020291\n",
      "Loss: 2.085833374654533\n",
      "Loss: 14.335015010202914\n",
      "Loss: 2.0754583746545294\n",
      "Loss: 14.345377510202917\n",
      "Loss: 2.065083374654525\n",
      "Loss: 14.355740010202918\n",
      "Loss: 2.0547083746545227\n",
      "Loss: 14.366102510202921\n",
      "Loss: 2.0443333746545194\n",
      "Loss: 14.37646501020293\n",
      "Loss: 2.0339583746545147\n",
      "Loss: 14.386827510202929\n",
      "Loss: 2.023583374654512\n",
      "Loss: 14.397190010202937\n",
      "Loss: 2.013208374654509\n",
      "Epoch: 480 | Loss: 2.013208374654509 | Test loss: 33.04451538399548\n",
      "OrderedDict([('weights', tensor([0.6848], dtype=torch.float64)), ('bias', tensor([0.3064], dtype=torch.float64))])\n",
      "Loss: 14.407552510202938\n",
      "Loss: 2.0028333746545046\n",
      "Loss: 14.417915010202938\n",
      "Loss: 1.9924583746545026\n",
      "Loss: 14.428277510202943\n",
      "Loss: 1.9820833746544988\n",
      "Loss: 14.438640010202949\n",
      "Loss: 1.971708374654495\n",
      "Loss: 14.44900251020295\n",
      "Loss: 1.9613333746544916\n",
      "Loss: 14.459365010202955\n",
      "Loss: 1.9509583746544883\n",
      "Loss: 14.469727510202954\n",
      "Loss: 1.9405833746544843\n",
      "Loss: 14.48009001020296\n",
      "Loss: 1.9302083746544816\n",
      "Loss: 14.490452510202966\n",
      "Loss: 1.9198333746544782\n",
      "Loss: 14.500815010202967\n",
      "Loss: 1.9094583746544742\n",
      "Epoch: 500 | Loss: 1.9094583746544742 | Test loss: 33.27326538399556\n",
      "OrderedDict([('weights', tensor([0.6848], dtype=torch.float64)), ('bias', tensor([0.3064], dtype=torch.float64))])\n",
      "Loss: 14.511177510202973\n",
      "Loss: 1.899083374654472\n",
      "Loss: 14.521540010202978\n",
      "Loss: 1.8887083746544686\n",
      "Loss: 14.531902510202979\n",
      "Loss: 1.8783333746544641\n",
      "Loss: 14.542265010202982\n",
      "Loss: 1.8679583746544615\n",
      "Loss: 14.552627510202985\n",
      "Loss: 1.857583374654458\n",
      "Loss: 14.56299001020299\n",
      "Loss: 1.847208374654454\n",
      "Loss: 14.57335251020299\n",
      "Loss: 1.8368333746544514\n",
      "Loss: 14.583715010202997\n",
      "Loss: 1.826458374654448\n",
      "Loss: 14.594077510202998\n",
      "Loss: 1.816083374654444\n",
      "Loss: 14.604440010203001\n",
      "Loss: 1.8057083746544413\n",
      "Epoch: 520 | Loss: 1.8057083746544413 | Test loss: 33.502015383995634\n",
      "OrderedDict([('weights', tensor([0.6848], dtype=torch.float64)), ('bias', tensor([0.3064], dtype=torch.float64))])\n",
      "Loss: 14.614802510203003\n",
      "Loss: 1.7953333746544378\n",
      "Loss: 14.625165010203006\n",
      "Loss: 1.7849583746544337\n",
      "Loss: 14.635527510203014\n",
      "Loss: 1.774583374654431\n",
      "Loss: 14.645890010203013\n",
      "Loss: 1.7642083746544277\n",
      "Loss: 14.656252510203018\n",
      "Loss: 1.753833374654424\n",
      "Loss: 14.66661501020302\n",
      "Loss: 1.743458374654421\n",
      "Loss: 14.676977510203022\n",
      "Loss: 1.7330833746544176\n",
      "Loss: 14.68734001020303\n",
      "Loss: 1.7227083746544138\n",
      "Loss: 14.697702510203033\n",
      "Loss: 1.712333374654411\n",
      "Loss: 14.708065010203034\n",
      "Loss: 1.7019583746544076\n",
      "Epoch: 540 | Loss: 1.7019583746544076 | Test loss: 33.730765383995696\n",
      "OrderedDict([('weights', tensor([0.6848], dtype=torch.float64)), ('bias', tensor([0.3064], dtype=torch.float64))])\n",
      "Loss: 14.718427510203039\n",
      "Loss: 1.6915833746544038\n",
      "Loss: 14.728790010203042\n",
      "Loss: 1.6812083746544004\n",
      "Loss: 14.739152510203045\n",
      "Loss: 1.670833374654397\n",
      "Loss: 14.74951501020305\n",
      "Loss: 1.6604583746543937\n",
      "Loss: 14.75987751020305\n",
      "Loss: 1.6500833746543904\n",
      "Loss: 14.770240010203054\n",
      "Loss: 1.639708374654387\n",
      "Loss: 14.780602510203058\n",
      "Loss: 1.6293333746543834\n",
      "Loss: 14.790965010203063\n",
      "Loss: 1.6189583746543803\n",
      "Loss: 14.801327510203066\n",
      "Loss: 1.608583374654377\n",
      "Loss: 14.811690010203069\n",
      "Loss: 1.5982083746543734\n",
      "Epoch: 560 | Loss: 1.5982083746543734 | Test loss: 33.95951538399578\n",
      "OrderedDict([('weights', tensor([0.6848], dtype=torch.float64)), ('bias', tensor([0.3064], dtype=torch.float64))])\n",
      "Loss: 14.822052510203074\n",
      "Loss: 1.5878333746543702\n",
      "Loss: 14.832415010203073\n",
      "Loss: 1.5774583746543667\n",
      "Loss: 14.842777510203078\n",
      "Loss: 1.5670833746543633\n",
      "Loss: 14.853140010203083\n",
      "Loss: 1.5567083746543602\n",
      "Loss: 14.863502510203086\n",
      "Loss: 1.5463333746543566\n",
      "Loss: 14.873865010203094\n",
      "Loss: 1.535958374654353\n",
      "Loss: 14.884227510203093\n",
      "Loss: 1.52558337465435\n",
      "Loss: 14.894590010203094\n",
      "Loss: 1.5152083746543465\n",
      "Loss: 14.904952510203097\n",
      "Loss: 1.5048333746543427\n",
      "Loss: 14.915315010203102\n",
      "Loss: 1.4944583746543398\n",
      "Epoch: 580 | Loss: 1.4944583746543398 | Test loss: 34.188265383995855\n",
      "OrderedDict([('weights', tensor([0.6848], dtype=torch.float64)), ('bias', tensor([0.3064], dtype=torch.float64))])\n",
      "Loss: 14.925677510203107\n",
      "Loss: 1.4840833746543363\n",
      "Loss: 14.93604001020311\n",
      "Loss: 1.4737083746543327\n",
      "Loss: 14.946402510203114\n",
      "Loss: 1.4633333746543298\n",
      "Loss: 14.956765010203117\n",
      "Loss: 1.4529583746543262\n",
      "Loss: 14.967127510203118\n",
      "Loss: 1.4425833746543226\n",
      "Loss: 14.977490010203121\n",
      "Loss: 1.4322083746543193\n",
      "Loss: 14.987852510203126\n",
      "Loss: 1.421833374654316\n",
      "Loss: 14.99821501020313\n",
      "Loss: 1.4114583746543126\n",
      "Loss: 15.008577510203134\n",
      "Loss: 1.4010833746543092\n",
      "Loss: 15.018940010203135\n",
      "Loss: 1.3907083746543059\n",
      "Epoch: 600 | Loss: 1.3907083746543059 | Test loss: 34.41701538399594\n",
      "OrderedDict([('weights', tensor([0.6848], dtype=torch.float64)), ('bias', tensor([0.3064], dtype=torch.float64))])\n",
      "Loss: 15.029302510203138\n",
      "Loss: 1.380333374654302\n",
      "Loss: 15.039665010203143\n",
      "Loss: 1.3699583746542991\n",
      "Loss: 15.050027510203147\n",
      "Loss: 1.3595833746542954\n",
      "Loss: 15.060390010203154\n",
      "Loss: 1.349208374654292\n",
      "Loss: 15.070752510203155\n",
      "Loss: 1.3388333746542889\n",
      "Loss: 15.081115010203154\n",
      "Loss: 1.3284583746542853\n",
      "Loss: 15.091477510203159\n",
      "Loss: 1.318083374654282\n",
      "Loss: 15.101840010203162\n",
      "Loss: 1.307708374654279\n",
      "Loss: 15.112202510203167\n",
      "Loss: 1.2973333746542752\n",
      "Loss: 15.12256501020317\n",
      "Loss: 1.2869583746542717\n",
      "Epoch: 620 | Loss: 1.2869583746542717 | Test loss: 34.64576538399601\n",
      "OrderedDict([('weights', tensor([0.6848], dtype=torch.float64)), ('bias', tensor([0.3064], dtype=torch.float64))])\n",
      "Loss: 15.132927510203174\n",
      "Loss: 1.2765833746542687\n",
      "Loss: 15.143290010203174\n",
      "Loss: 1.266208374654265\n",
      "Loss: 15.153652510203182\n",
      "Loss: 1.2558333746542616\n",
      "Loss: 15.164015010203183\n",
      "Loss: 1.2454583746542585\n",
      "Loss: 15.17437751020319\n",
      "Loss: 1.2350833746542549\n",
      "Loss: 15.18474001020319\n",
      "Loss: 1.2247083746542515\n",
      "Loss: 15.195102510203194\n",
      "Loss: 1.2143333746542484\n",
      "Loss: 15.205465010203193\n",
      "Loss: 1.2039583746542448\n",
      "Loss: 15.215827510203201\n",
      "Loss: 1.1935833746542412\n",
      "Loss: 15.226190010203203\n",
      "Loss: 1.1832083746542381\n",
      "Epoch: 640 | Loss: 1.1832083746542381 | Test loss: 34.874515383996076\n",
      "OrderedDict([('weights', tensor([0.6848], dtype=torch.float64)), ('bias', tensor([0.3064], dtype=torch.float64))])\n",
      "Loss: 15.236552510203207\n",
      "Loss: 1.1728333746542345\n",
      "Loss: 15.246915010203214\n",
      "Loss: 1.1624583746542312\n",
      "Loss: 15.257277510203215\n",
      "Loss: 1.152083374654228\n",
      "Loss: 15.267640010203218\n",
      "Loss: 1.1417083746542247\n",
      "Loss: 15.278002510203219\n",
      "Loss: 1.131333374654221\n",
      "Loss: 15.288365010203222\n",
      "Loss: 1.120958374654218\n",
      "Loss: 15.29872751020323\n",
      "Loss: 1.1105833746542142\n",
      "Loss: 15.309090010203231\n",
      "Loss: 1.1002083746542106\n",
      "Loss: 15.319452510203234\n",
      "Loss: 1.0898333746542082\n",
      "Loss: 15.329815010203237\n",
      "Loss: 1.079458374654204\n",
      "Epoch: 660 | Loss: 1.079458374654204 | Test loss: 35.10326538399615\n",
      "OrderedDict([('weights', tensor([0.6848], dtype=torch.float64)), ('bias', tensor([0.3064], dtype=torch.float64))])\n",
      "Loss: 15.340177510203238\n",
      "Loss: 1.0690833746542006\n",
      "Loss: 15.350540010203243\n",
      "Loss: 1.058708374654198\n",
      "Loss: 15.36090251020325\n",
      "Loss: 1.0483333746541939\n",
      "Loss: 15.37126501020325\n",
      "Loss: 1.0379583746541905\n",
      "Loss: 15.381627510203256\n",
      "Loss: 1.027583374654188\n",
      "Loss: 15.391990010203259\n",
      "Loss: 1.0172083746541838\n",
      "Loss: 15.402352510203261\n",
      "Loss: 1.0068333746541802\n",
      "Loss: 15.412715010203266\n",
      "Loss: 0.9964583746541777\n",
      "Loss: 15.423077510203267\n",
      "Loss: 0.9860833746541736\n",
      "Loss: 15.433440010203274\n",
      "Loss: 0.9757083746541702\n",
      "Epoch: 680 | Loss: 0.9757083746541702 | Test loss: 35.332015383996236\n",
      "OrderedDict([('weights', tensor([0.6848], dtype=torch.float64)), ('bias', tensor([0.3064], dtype=torch.float64))])\n",
      "Loss: 15.443802510203275\n",
      "Loss: 0.9653333746541677\n",
      "Loss: 15.454165010203278\n",
      "Loss: 0.9549583746541634\n",
      "Loss: 15.464527510203279\n",
      "Loss: 0.9445833746541599\n",
      "Loss: 15.474890010203286\n",
      "Loss: 0.9342083746541572\n",
      "Loss: 15.48525251020329\n",
      "Loss: 0.9238333746541534\n",
      "Loss: 15.495615010203291\n",
      "Loss: 0.9134583746541496\n",
      "Loss: 15.505977510203298\n",
      "Loss: 0.9030833746541471\n",
      "Loss: 15.516340010203297\n",
      "Loss: 0.8927083746541431\n",
      "Loss: 15.526702510203299\n",
      "Loss: 0.8823333746541394\n",
      "Loss: 15.537065010203307\n",
      "Loss: 0.8719583746541371\n",
      "Epoch: 700 | Loss: 0.8719583746541371 | Test loss: 35.560765383996305\n",
      "OrderedDict([('weights', tensor([0.6848], dtype=torch.float64)), ('bias', tensor([0.3064], dtype=torch.float64))])\n",
      "Loss: 15.54742751020331\n",
      "Loss: 0.861583374654133\n",
      "Loss: 15.557790010203314\n",
      "Loss: 0.8512083746541294\n",
      "Loss: 15.568152510203316\n",
      "Loss: 0.8408333746541269\n",
      "Loss: 15.578515010203319\n",
      "Loss: 0.8304583746541226\n",
      "Loss: 15.588877510203321\n",
      "Loss: 0.8200833746541193\n",
      "Loss: 15.599240010203323\n",
      "Loss: 0.8097083746541168\n",
      "Loss: 15.609602510203331\n",
      "Loss: 0.7993333746541127\n",
      "Loss: 15.619965010203334\n",
      "Loss: 0.788958374654109\n",
      "Loss: 15.630327510203335\n",
      "Loss: 0.7785833746541067\n",
      "Loss: 15.64069001020334\n",
      "Loss: 0.7682083746541025\n",
      "Epoch: 720 | Loss: 0.7682083746541025 | Test loss: 35.78951538399638\n",
      "OrderedDict([('weights', tensor([0.6848], dtype=torch.float64)), ('bias', tensor([0.3064], dtype=torch.float64))])\n",
      "Loss: 15.651052510203339\n",
      "Loss: 0.7578333746540995\n",
      "Loss: 15.661415010203347\n",
      "Loss: 0.7474583746540964\n",
      "Loss: 15.67177751020335\n",
      "Loss: 0.7370833746540923\n",
      "Loss: 15.682140010203351\n",
      "Loss: 0.72670837465409\n",
      "Loss: 15.692502510203358\n",
      "Loss: 0.7163333746540863\n",
      "Loss: 15.70286501020336\n",
      "Loss: 0.7059583746540822\n",
      "Loss: 15.713227510203362\n",
      "Loss: 0.6955833746540796\n",
      "Loss: 15.723590010203367\n",
      "Loss: 0.6852083746540761\n",
      "Loss: 15.73395251020337\n",
      "Loss: 0.6748333746540721\n",
      "Loss: 15.74431501020337\n",
      "Loss: 0.6644583746540695\n",
      "Epoch: 740 | Loss: 0.6644583746540695 | Test loss: 36.01826538399646\n",
      "OrderedDict([('weights', tensor([0.6848], dtype=torch.float64)), ('bias', tensor([0.3064], dtype=torch.float64))])\n",
      "Loss: 15.75467751020338\n",
      "Loss: 0.654083374654066\n",
      "Loss: 15.765040010203379\n",
      "Loss: 0.6437083746540619\n",
      "Loss: 15.775402510203383\n",
      "Loss: 0.6333333746540595\n",
      "Loss: 15.785765010203386\n",
      "Loss: 0.6229583746540557\n",
      "Loss: 15.796127510203391\n",
      "Loss: 0.6125833746540517\n",
      "Loss: 15.806490010203394\n",
      "Loss: 0.6022083746540492\n",
      "Loss: 15.816852510203399\n",
      "Loss: 0.5918333746540457\n",
      "Loss: 15.8272150102034\n",
      "Loss: 0.5814583746540415\n",
      "Loss: 15.837577510203403\n",
      "Loss: 0.5710833746540389\n",
      "Loss: 15.847940010203406\n",
      "Loss: 0.5607083746540356\n",
      "Epoch: 760 | Loss: 0.5607083746540356 | Test loss: 36.24701538399653\n",
      "OrderedDict([('weights', tensor([0.6848], dtype=torch.float64)), ('bias', tensor([0.3064], dtype=torch.float64))])\n",
      "Loss: 15.85830251020341\n",
      "Loss: 0.5503333746540313\n",
      "Loss: 15.868665010203415\n",
      "Loss: 0.5399583746540288\n",
      "Loss: 15.87902751020342\n",
      "Loss: 0.5295833746540254\n",
      "Loss: 15.88939001020342\n",
      "Loss: 0.5192083746540213\n",
      "Loss: 15.899752510203422\n",
      "Loss: 0.5088333746540188\n",
      "Loss: 15.910115010203427\n",
      "Loss: 0.4984583746540151\n",
      "Loss: 15.920477510203431\n",
      "Loss: 0.48808337465401097\n",
      "Loss: 15.930840010203434\n",
      "Loss: 0.4777083746540086\n",
      "Loss: 15.941202510203436\n",
      "Loss: 0.46733337465400504\n",
      "Loss: 15.951565010203442\n",
      "Loss: 0.4569583746540008\n",
      "Epoch: 780 | Loss: 0.4569583746540008 | Test loss: 36.47576538399661\n",
      "OrderedDict([('weights', tensor([0.6848], dtype=torch.float64)), ('bias', tensor([0.3064], dtype=torch.float64))])\n",
      "Loss: 15.961927510203441\n",
      "Loss: 0.44658337465399833\n",
      "Loss: 15.972290010203446\n",
      "Loss: 0.4362083746539948\n",
      "Loss: 15.982652510203451\n",
      "Loss: 0.42583337465399096\n",
      "Loss: 15.993015010203456\n",
      "Loss: 0.41545837465398827\n",
      "Loss: 16.003377510203457\n",
      "Loss: 0.4050833746539847\n",
      "Loss: 16.01374001020346\n",
      "Loss: 0.39470837465398106\n",
      "Loss: 16.024102510203466\n",
      "Loss: 0.38433337465397815\n",
      "Loss: 16.03446501020347\n",
      "Loss: 0.37395837465397447\n",
      "Loss: 16.044827510203472\n",
      "Loss: 0.36358337465397084\n",
      "Loss: 16.05519001020348\n"
     ]
    }
   ],
   "source": [
    "torch.manual_seed(42)\n",
    "# An epoch is one loop through the data ... (this is a hyperparameter bc we've set it by ourselves)\n",
    "epochs = 800\n",
    "\n",
    "# Tracking different values\n",
    "epoch_count = []\n",
    "loss_values = []\n",
    "test_loss_values = []\n",
    "\n",
    "# 0. Loop through the data \n",
    "for epoch in range(epochs):\n",
    "    # set the model to training mode:\n",
    "    model_0.train() # sets all parameters that require gradients to require gradients\n",
    "    \n",
    "    # 1. Forward pass \n",
    "    y_preds = model_1(X_train)\n",
    "    \n",
    "    # 2. Calculate the loss\n",
    "    loss = loss_fn(y_preds, y_train) # Calculate predictions on training data set n the ideal training values \n",
    "    print(f\"Loss: {loss}\")\n",
    "    \n",
    "    # 3. Optimizer zero grad\n",
    "    optimizer.zero_grad()\n",
    "    \n",
    "    # 4. Perform backpropagation on the loss with respect to the parameters of the model\n",
    "    loss.backward()\n",
    "    \n",
    "    # 5. Step the optimizer (perform gradient descent)\n",
    "    optimizer.step() # by default hw the optimizer changes will accumulate through the loop so ... we have to zero  them above in step 3 for the next iteration of the loop\n",
    "    \n",
    "    ### Testing \n",
    "    model_0.eval() # turns off different settings in the model not needed for evaluation/testing (dropout/batch norm layers)\n",
    "    with torch.inference_mode(): # turns off gradient tracking & a couple more things behind the scenes\n",
    "        # 1. Do the forward pass\n",
    "        test_pred = model_1(X_test)\n",
    "        # 2. Calculate the loss \n",
    "        test_loss = loss_fn(test_pred, y_test)\n",
    "        \n",
    "    # Print out results\n",
    "    if epoch % 20 == 0:\n",
    "        epoch_count.append(epoch)\n",
    "        loss_values.append(loss)\n",
    "        test_loss_values.append(test_loss)\n",
    "\n",
    "        print(f\"Epoch: {epoch} | Loss: {loss} | Test loss: {test_loss}\" )\n",
    "        # Print out model state dict\n",
    "        print( model_0.state_dict())\n",
    "    "
   ]
  },
  {
   "cell_type": "markdown",
   "metadata": {},
   "source": [
    "## Make predictions with the trained model on the test data"
   ]
  },
  {
   "cell_type": "code",
   "execution_count": 548,
   "metadata": {},
   "outputs": [
    {
     "data": {
      "text/plain": [
       "tensor([[25.1669],\n",
       "        [25.4748],\n",
       "        [25.7827],\n",
       "        [26.0906],\n",
       "        [26.3985],\n",
       "        [26.7064],\n",
       "        [27.0144],\n",
       "        [27.3223],\n",
       "        [27.6302],\n",
       "        [27.9381],\n",
       "        [28.2460],\n",
       "        [28.5539],\n",
       "        [28.8618],\n",
       "        [29.1697],\n",
       "        [29.4776],\n",
       "        [29.7855],\n",
       "        [30.0934],\n",
       "        [30.4013],\n",
       "        [30.7092],\n",
       "        [31.0171]], dtype=torch.float64)"
      ]
     },
     "execution_count": 548,
     "metadata": {},
     "output_type": "execute_result"
    }
   ],
   "source": [
    "# Make predictions with the model\n",
    "model_1.eval()\n",
    "\n",
    "with torch.inference_mode():\n",
    "    y_preds = model_1(X_test)\n",
    "\n",
    "y_preds"
   ]
  },
  {
   "cell_type": "code",
   "execution_count": 549,
   "metadata": {},
   "outputs": [
    {
     "data": {
      "text/plain": [
       "tensor([[25.1669],\n",
       "        [25.4748],\n",
       "        [25.7827],\n",
       "        [26.0906],\n",
       "        [26.3985],\n",
       "        [26.7064],\n",
       "        [27.0144],\n",
       "        [27.3223],\n",
       "        [27.6302],\n",
       "        [27.9381],\n",
       "        [28.2460],\n",
       "        [28.5539],\n",
       "        [28.8618],\n",
       "        [29.1697],\n",
       "        [29.4776],\n",
       "        [29.7855],\n",
       "        [30.0934],\n",
       "        [30.4013],\n",
       "        [30.7092],\n",
       "        [31.0171]], dtype=torch.float64)"
      ]
     },
     "execution_count": 549,
     "metadata": {},
     "output_type": "execute_result"
    }
   ],
   "source": [
    "y_preds.cpu()"
   ]
  },
  {
   "cell_type": "code",
   "execution_count": 550,
   "metadata": {},
   "outputs": [
    {
     "data": {
      "image/png": "[encoded data removed]",
      "text/plain": [
       "<Figure size 1000x700 with 1 Axes>"
      ]
     },
     "metadata": {},
     "output_type": "display_data"
    }
   ],
   "source": [
    "plot_predictions(predictions=y_preds.cpu())"
   ]
  },
  {
   "cell_type": "code",
   "execution_count": 551,
   "metadata": {},
   "outputs": [
    {
     "name": "stdout",
     "output_type": "stream",
     "text": [
      "Saving model to models\\02_pytorch_model\n"
     ]
    }
   ],
   "source": [
    "\n",
    "from pathlib import Path\n",
    "\n",
    "# 1. Create models directory \n",
    "MODEL_PATH = Path(\"models\")\n",
    "MODEL_PATH.mkdir(parents = True,exist_ok = True)\n",
    "# 2. Create model save path \n",
    "MODEL_NAME = \"02_pytorch_model\"\n",
    "MODEL_SAVE_PATH = MODEL_PATH / MODEL_NAME \n",
    "# 3. Save the model state dict\n",
    "print(f\"Saving model to {MODEL_SAVE_PATH}\")\n",
    "torch.save(obj = model_1.state_dict(),f = MODEL_SAVE_PATH)"
   ]
  },
  {
   "cell_type": "code",
   "execution_count": 576,
   "metadata": {},
   "outputs": [],
   "source": [
    "loaded_model = LinearRegressionModel()\n",
    "loaded_model.load_state_dict(torch.load(f = MODEL_SAVE_PATH))\n",
    "loaded_model.to(device)\n",
    "y_preds = y_preds.to('cuda')"
   ]
  },
  {
   "cell_type": "code",
   "execution_count": 577,
   "metadata": {},
   "outputs": [
    {
     "data": {
      "text/plain": [
       "tensor([[True],\n",
       "        [True],\n",
       "        [True],\n",
       "        [True],\n",
       "        [True],\n",
       "        [True],\n",
       "        [True],\n",
       "        [True],\n",
       "        [True],\n",
       "        [True],\n",
       "        [True],\n",
       "        [True],\n",
       "        [True],\n",
       "        [True],\n",
       "        [True],\n",
       "        [True],\n",
       "        [True],\n",
       "        [True],\n",
       "        [True],\n",
       "        [True]], device='cuda:0')"
      ]
     },
     "execution_count": 577,
     "metadata": {},
     "output_type": "execute_result"
    }
   ],
   "source": [
    "y_preds_new = loaded_model(X_test)\n",
    "y_preds == y_preds_new"
   ]
  }
 ],
 "metadata": {
  "kernelspec": {
   "display_name": "gp1",
   "language": "python",
   "name": "python3"
  },
  "language_info": {
   "codemirror_mode": {
    "name": "ipython",
    "version": 3
   },
   "file_extension": ".py",
   "mimetype": "text/x-python",
   "name": "python",
   "nbconvert_exporter": "python",
   "pygments_lexer": "ipython3",
   "version": "3.9.19"
  }
 },
 "nbformat": 4,
 "nbformat_minor": 2
}
